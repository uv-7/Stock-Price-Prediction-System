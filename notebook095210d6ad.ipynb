{
 "cells": [
  {
   "cell_type": "code",
   "execution_count": 1,
   "id": "5ee00a43",
   "metadata": {
    "_cell_guid": "b1076dfc-b9ad-4769-8c92-a6c4dae69d19",
    "_uuid": "8f2839f25d086af736a60e9eeb907d3b93b6e0e5",
    "execution": {
     "iopub.execute_input": "2024-03-05T19:44:27.195394Z",
     "iopub.status.busy": "2024-03-05T19:44:27.194849Z",
     "iopub.status.idle": "2024-03-05T19:44:27.211617Z",
     "shell.execute_reply": "2024-03-05T19:44:27.210288Z"
    },
    "papermill": {
     "duration": 0.033061,
     "end_time": "2024-03-05T19:44:27.214928",
     "exception": false,
     "start_time": "2024-03-05T19:44:27.181867",
     "status": "completed"
    },
    "tags": []
   },
   "outputs": [
    {
     "name": "stdout",
     "output_type": "stream",
     "text": [
      "/kaggle/input/new-dataset/AAPL4.csv\n"
     ]
    }
   ],
   "source": [
    "# This Python 3 environment comes with many helpful analytics libraries installed\n",
    "# It is defined by the kaggle/python Docker image: https://github.com/kaggle/docker-python\n",
    "# For example, here's several helpful packages to load\n",
    "\n",
    "import numpy as np # linear algebra\n",
    "import pandas as pd # data processing, CSV file I/O (e.g. pd.read_csv)\n",
    "\n",
    "# Input data files are available in the read-only \"../input/\" directory\n",
    "# For example, running this (by clicking run or pressing Shift+Enter) will list all files under the input directory\n",
    "\n",
    "import os\n",
    "for dirname, _, filenames in os.walk('/kaggle/input'):\n",
    "    for filename in filenames:\n",
    "        print(os.path.join(dirname, filename))\n",
    "\n",
    "# You can write up to 20GB to the current directory (/kaggle/working/) that gets preserved as output when you create a version using \"Save & Run All\" \n",
    "# You can also write temporary files to /kaggle/temp/, but they won't be saved outside of the current session"
   ]
  },
  {
   "cell_type": "code",
   "execution_count": 2,
   "id": "db9d1df9",
   "metadata": {
    "execution": {
     "iopub.execute_input": "2024-03-05T19:44:27.237887Z",
     "iopub.status.busy": "2024-03-05T19:44:27.236547Z",
     "iopub.status.idle": "2024-03-05T19:44:27.242337Z",
     "shell.execute_reply": "2024-03-05T19:44:27.241240Z"
    },
    "papermill": {
     "duration": 0.019877,
     "end_time": "2024-03-05T19:44:27.244843",
     "exception": false,
     "start_time": "2024-03-05T19:44:27.224966",
     "status": "completed"
    },
    "tags": []
   },
   "outputs": [],
   "source": [
    "import pandas as pd"
   ]
  },
  {
   "cell_type": "code",
   "execution_count": 3,
   "id": "9a5d826a",
   "metadata": {
    "execution": {
     "iopub.execute_input": "2024-03-05T19:44:27.268568Z",
     "iopub.status.busy": "2024-03-05T19:44:27.267773Z",
     "iopub.status.idle": "2024-03-05T19:44:27.295427Z",
     "shell.execute_reply": "2024-03-05T19:44:27.293922Z"
    },
    "papermill": {
     "duration": 0.044056,
     "end_time": "2024-03-05T19:44:27.298730",
     "exception": false,
     "start_time": "2024-03-05T19:44:27.254674",
     "status": "completed"
    },
    "tags": []
   },
   "outputs": [],
   "source": [
    "df=pd.read_csv('/kaggle/input/new-dataset/AAPL4.csv')"
   ]
  },
  {
   "cell_type": "code",
   "execution_count": 4,
   "id": "2e819718",
   "metadata": {
    "execution": {
     "iopub.execute_input": "2024-03-05T19:44:27.320592Z",
     "iopub.status.busy": "2024-03-05T19:44:27.320107Z",
     "iopub.status.idle": "2024-03-05T19:44:27.359486Z",
     "shell.execute_reply": "2024-03-05T19:44:27.358065Z"
    },
    "papermill": {
     "duration": 0.055197,
     "end_time": "2024-03-05T19:44:27.363862",
     "exception": false,
     "start_time": "2024-03-05T19:44:27.308665",
     "status": "completed"
    },
    "tags": []
   },
   "outputs": [
    {
     "data": {
      "text/html": [
       "<div>\n",
       "<style scoped>\n",
       "    .dataframe tbody tr th:only-of-type {\n",
       "        vertical-align: middle;\n",
       "    }\n",
       "\n",
       "    .dataframe tbody tr th {\n",
       "        vertical-align: top;\n",
       "    }\n",
       "\n",
       "    .dataframe thead th {\n",
       "        text-align: right;\n",
       "    }\n",
       "</style>\n",
       "<table border=\"1\" class=\"dataframe\">\n",
       "  <thead>\n",
       "    <tr style=\"text-align: right;\">\n",
       "      <th></th>\n",
       "      <th>Unnamed: 0</th>\n",
       "      <th>symbol</th>\n",
       "      <th>date</th>\n",
       "      <th>close</th>\n",
       "      <th>high</th>\n",
       "      <th>low</th>\n",
       "      <th>open</th>\n",
       "      <th>volume</th>\n",
       "      <th>adjClose</th>\n",
       "      <th>adjHigh</th>\n",
       "      <th>adjLow</th>\n",
       "      <th>adjOpen</th>\n",
       "      <th>adjVolume</th>\n",
       "      <th>divCash</th>\n",
       "      <th>splitFactor</th>\n",
       "    </tr>\n",
       "  </thead>\n",
       "  <tbody>\n",
       "    <tr>\n",
       "      <th>0</th>\n",
       "      <td>0</td>\n",
       "      <td>AAPL</td>\n",
       "      <td>2015-05-27 00:00:00+00:00</td>\n",
       "      <td>132.045</td>\n",
       "      <td>132.260</td>\n",
       "      <td>130.05</td>\n",
       "      <td>130.34</td>\n",
       "      <td>45833246</td>\n",
       "      <td>121.682558</td>\n",
       "      <td>121.880685</td>\n",
       "      <td>119.844118</td>\n",
       "      <td>120.111360</td>\n",
       "      <td>45833246</td>\n",
       "      <td>0.0</td>\n",
       "      <td>1.0</td>\n",
       "    </tr>\n",
       "    <tr>\n",
       "      <th>1</th>\n",
       "      <td>1</td>\n",
       "      <td>AAPL</td>\n",
       "      <td>2015-05-28 00:00:00+00:00</td>\n",
       "      <td>131.780</td>\n",
       "      <td>131.950</td>\n",
       "      <td>131.10</td>\n",
       "      <td>131.86</td>\n",
       "      <td>30733309</td>\n",
       "      <td>121.438354</td>\n",
       "      <td>121.595013</td>\n",
       "      <td>120.811718</td>\n",
       "      <td>121.512076</td>\n",
       "      <td>30733309</td>\n",
       "      <td>0.0</td>\n",
       "      <td>1.0</td>\n",
       "    </tr>\n",
       "    <tr>\n",
       "      <th>2</th>\n",
       "      <td>2</td>\n",
       "      <td>AAPL</td>\n",
       "      <td>2015-05-29 00:00:00+00:00</td>\n",
       "      <td>130.280</td>\n",
       "      <td>131.450</td>\n",
       "      <td>129.90</td>\n",
       "      <td>131.23</td>\n",
       "      <td>50884452</td>\n",
       "      <td>120.056069</td>\n",
       "      <td>121.134251</td>\n",
       "      <td>119.705890</td>\n",
       "      <td>120.931516</td>\n",
       "      <td>50884452</td>\n",
       "      <td>0.0</td>\n",
       "      <td>1.0</td>\n",
       "    </tr>\n",
       "    <tr>\n",
       "      <th>3</th>\n",
       "      <td>3</td>\n",
       "      <td>AAPL</td>\n",
       "      <td>2015-06-01 00:00:00+00:00</td>\n",
       "      <td>130.535</td>\n",
       "      <td>131.390</td>\n",
       "      <td>130.05</td>\n",
       "      <td>131.20</td>\n",
       "      <td>32112797</td>\n",
       "      <td>120.291057</td>\n",
       "      <td>121.078960</td>\n",
       "      <td>119.844118</td>\n",
       "      <td>120.903870</td>\n",
       "      <td>32112797</td>\n",
       "      <td>0.0</td>\n",
       "      <td>1.0</td>\n",
       "    </tr>\n",
       "    <tr>\n",
       "      <th>4</th>\n",
       "      <td>4</td>\n",
       "      <td>AAPL</td>\n",
       "      <td>2015-06-02 00:00:00+00:00</td>\n",
       "      <td>129.960</td>\n",
       "      <td>130.655</td>\n",
       "      <td>129.32</td>\n",
       "      <td>129.86</td>\n",
       "      <td>33667627</td>\n",
       "      <td>119.761181</td>\n",
       "      <td>120.401640</td>\n",
       "      <td>119.171406</td>\n",
       "      <td>119.669029</td>\n",
       "      <td>33667627</td>\n",
       "      <td>0.0</td>\n",
       "      <td>1.0</td>\n",
       "    </tr>\n",
       "  </tbody>\n",
       "</table>\n",
       "</div>"
      ],
      "text/plain": [
       "   Unnamed: 0 symbol                       date    close     high     low  \\\n",
       "0           0   AAPL  2015-05-27 00:00:00+00:00  132.045  132.260  130.05   \n",
       "1           1   AAPL  2015-05-28 00:00:00+00:00  131.780  131.950  131.10   \n",
       "2           2   AAPL  2015-05-29 00:00:00+00:00  130.280  131.450  129.90   \n",
       "3           3   AAPL  2015-06-01 00:00:00+00:00  130.535  131.390  130.05   \n",
       "4           4   AAPL  2015-06-02 00:00:00+00:00  129.960  130.655  129.32   \n",
       "\n",
       "     open    volume    adjClose     adjHigh      adjLow     adjOpen  \\\n",
       "0  130.34  45833246  121.682558  121.880685  119.844118  120.111360   \n",
       "1  131.86  30733309  121.438354  121.595013  120.811718  121.512076   \n",
       "2  131.23  50884452  120.056069  121.134251  119.705890  120.931516   \n",
       "3  131.20  32112797  120.291057  121.078960  119.844118  120.903870   \n",
       "4  129.86  33667627  119.761181  120.401640  119.171406  119.669029   \n",
       "\n",
       "   adjVolume  divCash  splitFactor  \n",
       "0   45833246      0.0          1.0  \n",
       "1   30733309      0.0          1.0  \n",
       "2   50884452      0.0          1.0  \n",
       "3   32112797      0.0          1.0  \n",
       "4   33667627      0.0          1.0  "
      ]
     },
     "execution_count": 4,
     "metadata": {},
     "output_type": "execute_result"
    }
   ],
   "source": [
    "df.head()\n"
   ]
  },
  {
   "cell_type": "code",
   "execution_count": 5,
   "id": "08cc0828",
   "metadata": {
    "execution": {
     "iopub.execute_input": "2024-03-05T19:44:27.386935Z",
     "iopub.status.busy": "2024-03-05T19:44:27.385999Z",
     "iopub.status.idle": "2024-03-05T19:44:27.398938Z",
     "shell.execute_reply": "2024-03-05T19:44:27.397251Z"
    },
    "papermill": {
     "duration": 0.028067,
     "end_time": "2024-03-05T19:44:27.402402",
     "exception": false,
     "start_time": "2024-03-05T19:44:27.374335",
     "status": "completed"
    },
    "tags": []
   },
   "outputs": [],
   "source": [
    "df1=df.reset_index()['close']\n"
   ]
  },
  {
   "cell_type": "code",
   "execution_count": 6,
   "id": "40d2aa10",
   "metadata": {
    "execution": {
     "iopub.execute_input": "2024-03-05T19:44:27.425454Z",
     "iopub.status.busy": "2024-03-05T19:44:27.424869Z",
     "iopub.status.idle": "2024-03-05T19:44:27.435367Z",
     "shell.execute_reply": "2024-03-05T19:44:27.434066Z"
    },
    "papermill": {
     "duration": 0.024684,
     "end_time": "2024-03-05T19:44:27.438105",
     "exception": false,
     "start_time": "2024-03-05T19:44:27.413421",
     "status": "completed"
    },
    "tags": []
   },
   "outputs": [
    {
     "data": {
      "text/plain": [
       "0       132.045\n",
       "1       131.780\n",
       "2       130.280\n",
       "3       130.535\n",
       "4       129.960\n",
       "         ...   \n",
       "1253    314.960\n",
       "1254    313.140\n",
       "1255    319.230\n",
       "1256    316.850\n",
       "1257    318.890\n",
       "Name: close, Length: 1258, dtype: float64"
      ]
     },
     "execution_count": 6,
     "metadata": {},
     "output_type": "execute_result"
    }
   ],
   "source": [
    "df1\n"
   ]
  },
  {
   "cell_type": "code",
   "execution_count": 7,
   "id": "fe409d1b",
   "metadata": {
    "execution": {
     "iopub.execute_input": "2024-03-05T19:44:27.461352Z",
     "iopub.status.busy": "2024-03-05T19:44:27.460871Z",
     "iopub.status.idle": "2024-03-05T19:44:27.711224Z",
     "shell.execute_reply": "2024-03-05T19:44:27.709788Z"
    },
    "papermill": {
     "duration": 0.269887,
     "end_time": "2024-03-05T19:44:27.718161",
     "exception": false,
     "start_time": "2024-03-05T19:44:27.448274",
     "status": "completed"
    },
    "tags": []
   },
   "outputs": [
    {
     "data": {
      "text/plain": [
       "[<matplotlib.lines.Line2D at 0x7e65ac4c9750>]"
      ]
     },
     "execution_count": 7,
     "metadata": {},
     "output_type": "execute_result"
    },
    {
     "data": {
      "image/png": "[encoded data removed]",
      "text/plain": [
       "<Figure size 432x288 with 1 Axes>"
      ]
     },
     "metadata": {
      "needs_background": "light"
     },
     "output_type": "display_data"
    }
   ],
   "source": [
    "import matplotlib.pyplot as plt\n",
    "plt.plot(df1)"
   ]
  },
  {
   "cell_type": "code",
   "execution_count": 8,
   "id": "ea7c4c96",
   "metadata": {
    "execution": {
     "iopub.execute_input": "2024-03-05T19:44:27.742023Z",
     "iopub.status.busy": "2024-03-05T19:44:27.741543Z",
     "iopub.status.idle": "2024-03-05T19:44:27.747309Z",
     "shell.execute_reply": "2024-03-05T19:44:27.745844Z"
    },
    "papermill": {
     "duration": 0.020315,
     "end_time": "2024-03-05T19:44:27.749756",
     "exception": false,
     "start_time": "2024-03-05T19:44:27.729441",
     "status": "completed"
    },
    "tags": []
   },
   "outputs": [],
   "source": [
    "import numpy as np\n"
   ]
  },
  {
   "cell_type": "code",
   "execution_count": 9,
   "id": "75d16e5b",
   "metadata": {
    "execution": {
     "iopub.execute_input": "2024-03-05T19:44:27.773495Z",
     "iopub.status.busy": "2024-03-05T19:44:27.773084Z",
     "iopub.status.idle": "2024-03-05T19:44:27.783046Z",
     "shell.execute_reply": "2024-03-05T19:44:27.781931Z"
    },
    "papermill": {
     "duration": 0.02489,
     "end_time": "2024-03-05T19:44:27.786091",
     "exception": false,
     "start_time": "2024-03-05T19:44:27.761201",
     "status": "completed"
    },
    "tags": []
   },
   "outputs": [
    {
     "data": {
      "text/plain": [
       "0       132.045\n",
       "1       131.780\n",
       "2       130.280\n",
       "3       130.535\n",
       "4       129.960\n",
       "         ...   \n",
       "1253    314.960\n",
       "1254    313.140\n",
       "1255    319.230\n",
       "1256    316.850\n",
       "1257    318.890\n",
       "Name: close, Length: 1258, dtype: float64"
      ]
     },
     "execution_count": 9,
     "metadata": {},
     "output_type": "execute_result"
    }
   ],
   "source": [
    "df1\n"
   ]
  },
  {
   "cell_type": "code",
   "execution_count": 10,
   "id": "aa500b07",
   "metadata": {
    "execution": {
     "iopub.execute_input": "2024-03-05T19:44:27.809541Z",
     "iopub.status.busy": "2024-03-05T19:44:27.809061Z",
     "iopub.status.idle": "2024-03-05T19:44:29.049594Z",
     "shell.execute_reply": "2024-03-05T19:44:29.048070Z"
    },
    "papermill": {
     "duration": 1.255904,
     "end_time": "2024-03-05T19:44:29.052895",
     "exception": false,
     "start_time": "2024-03-05T19:44:27.796991",
     "status": "completed"
    },
    "tags": []
   },
   "outputs": [],
   "source": [
    "#minmaxscalar is used to Transform features by scaling each feature to a given range. \n",
    "from sklearn.preprocessing import MinMaxScaler\n",
    "scaler=MinMaxScaler(feature_range=(0,1))\n",
    "df1=scaler.fit_transform(np.array(df1).reshape(-1,1))"
   ]
  },
  {
   "cell_type": "markdown",
   "id": "48790ca4",
   "metadata": {
    "papermill": {
     "duration": 0.010253,
     "end_time": "2024-03-05T19:44:29.074042",
     "exception": false,
     "start_time": "2024-03-05T19:44:29.063789",
     "status": "completed"
    },
    "tags": []
   },
   "source": []
  },
  {
   "cell_type": "code",
   "execution_count": 11,
   "id": "3313d991",
   "metadata": {
    "execution": {
     "iopub.execute_input": "2024-03-05T19:44:29.098036Z",
     "iopub.status.busy": "2024-03-05T19:44:29.097255Z",
     "iopub.status.idle": "2024-03-05T19:44:29.105937Z",
     "shell.execute_reply": "2024-03-05T19:44:29.104489Z"
    },
    "papermill": {
     "duration": 0.023817,
     "end_time": "2024-03-05T19:44:29.108679",
     "exception": false,
     "start_time": "2024-03-05T19:44:29.084862",
     "status": "completed"
    },
    "tags": []
   },
   "outputs": [
    {
     "name": "stdout",
     "output_type": "stream",
     "text": [
      "[[0.17607447]\n",
      " [0.17495567]\n",
      " [0.16862282]\n",
      " ...\n",
      " [0.96635143]\n",
      " [0.9563033 ]\n",
      " [0.96491598]]\n"
     ]
    }
   ],
   "source": [
    "print(df1)\n"
   ]
  },
  {
   "cell_type": "code",
   "execution_count": 12,
   "id": "142f3a0a",
   "metadata": {
    "execution": {
     "iopub.execute_input": "2024-03-05T19:44:29.132807Z",
     "iopub.status.busy": "2024-03-05T19:44:29.131425Z",
     "iopub.status.idle": "2024-03-05T19:44:29.137715Z",
     "shell.execute_reply": "2024-03-05T19:44:29.136779Z"
    },
    "papermill": {
     "duration": 0.020431,
     "end_time": "2024-03-05T19:44:29.139959",
     "exception": false,
     "start_time": "2024-03-05T19:44:29.119528",
     "status": "completed"
    },
    "tags": []
   },
   "outputs": [],
   "source": [
    "training_size=int(len(df1)*0.65)\n",
    "test_size=len(df1)-training_size\n",
    "train_data,test_data=df1[0:training_size,:],df1[training_size:len(df1),:1]"
   ]
  },
  {
   "cell_type": "code",
   "execution_count": 13,
   "id": "f0f4f7b1",
   "metadata": {
    "execution": {
     "iopub.execute_input": "2024-03-05T19:44:29.163836Z",
     "iopub.status.busy": "2024-03-05T19:44:29.163043Z",
     "iopub.status.idle": "2024-03-05T19:44:29.169461Z",
     "shell.execute_reply": "2024-03-05T19:44:29.168461Z"
    },
    "papermill": {
     "duration": 0.021153,
     "end_time": "2024-03-05T19:44:29.171836",
     "exception": false,
     "start_time": "2024-03-05T19:44:29.150683",
     "status": "completed"
    },
    "tags": []
   },
   "outputs": [
    {
     "data": {
      "text/plain": [
       "(817, 441)"
      ]
     },
     "execution_count": 13,
     "metadata": {},
     "output_type": "execute_result"
    }
   ],
   "source": [
    "training_size,test_size\n"
   ]
  },
  {
   "cell_type": "code",
   "execution_count": 14,
   "id": "6f94a9c3",
   "metadata": {
    "execution": {
     "iopub.execute_input": "2024-03-05T19:44:29.196212Z",
     "iopub.status.busy": "2024-03-05T19:44:29.195691Z",
     "iopub.status.idle": "2024-03-05T19:44:29.216236Z",
     "shell.execute_reply": "2024-03-05T19:44:29.214925Z"
    },
    "papermill": {
     "duration": 0.036663,
     "end_time": "2024-03-05T19:44:29.219600",
     "exception": false,
     "start_time": "2024-03-05T19:44:29.182937",
     "status": "completed"
    },
    "tags": []
   },
   "outputs": [
    {
     "data": {
      "text/plain": [
       "array([[0.17607447],\n",
       "       [0.17495567],\n",
       "       [0.16862282],\n",
       "       [0.1696994 ],\n",
       "       [0.16727181],\n",
       "       [0.16794731],\n",
       "       [0.16473866],\n",
       "       [0.16174111],\n",
       "       [0.1581525 ],\n",
       "       [0.15654817],\n",
       "       [0.16271215],\n",
       "       [0.1614878 ],\n",
       "       [0.1554927 ],\n",
       "       [0.15443722],\n",
       "       [0.15730811],\n",
       "       [0.15604154],\n",
       "       [0.15849025],\n",
       "       [0.15308621],\n",
       "       [0.15735033],\n",
       "       [0.15490163],\n",
       "       [0.15946129],\n",
       "       [0.15688592],\n",
       "       [0.1537195 ],\n",
       "       [0.14434687],\n",
       "       [0.14812547],\n",
       "       [0.15308621],\n",
       "       [0.15241071],\n",
       "       [0.15055307],\n",
       "       [0.14924428],\n",
       "       [0.13607194],\n",
       "       [0.12551718],\n",
       "       [0.13906949],\n",
       "       [0.14911762],\n",
       "       [0.14890653],\n",
       "       [0.15401503],\n",
       "       [0.16115005],\n",
       "       [0.16583636],\n",
       "       [0.17618002],\n",
       "       [0.17060711],\n",
       "       [0.14725998],\n",
       "       [0.14700667],\n",
       "       [0.14422021],\n",
       "       [0.13691632],\n",
       "       [0.13949168],\n",
       "       [0.13784514],\n",
       "       [0.13522756],\n",
       "       [0.13071012],\n",
       "       [0.11863548],\n",
       "       [0.10259225],\n",
       "       [0.1058009 ],\n",
       "       [0.10466098],\n",
       "       [0.10630752],\n",
       "       [0.12403952],\n",
       "       [0.09773706],\n",
       "       [0.10512539],\n",
       "       [0.10474542],\n",
       "       [0.10816516],\n",
       "       [0.11323144],\n",
       "       [0.11044499],\n",
       "       [0.10415435],\n",
       "       [0.09419066],\n",
       "       [0.06510175],\n",
       "       [0.05395592],\n",
       "       [0.0565735 ],\n",
       "       [0.08169383],\n",
       "       [0.09533058],\n",
       "       [0.09689268],\n",
       "       [0.09465507],\n",
       "       [0.07337668],\n",
       "       [0.09288187],\n",
       "       [0.08456472],\n",
       "       [0.07992063],\n",
       "       [0.09275521],\n",
       "       [0.0836359 ],\n",
       "       [0.09385291],\n",
       "       [0.10077683],\n",
       "       [0.10542092],\n",
       "       [0.10951617],\n",
       "       [0.11006502],\n",
       "       [0.09955248],\n",
       "       [0.09756818],\n",
       "       [0.10499873],\n",
       "       [0.09735709],\n",
       "       [0.10124124],\n",
       "       [0.10411213],\n",
       "       [0.10288778],\n",
       "       [0.09330406],\n",
       "       [0.07903403],\n",
       "       [0.08426919],\n",
       "       [0.08122942],\n",
       "       [0.08460694],\n",
       "       [0.0862957 ],\n",
       "       [0.08853331],\n",
       "       [0.0862957 ],\n",
       "       [0.08089167],\n",
       "       [0.09195305],\n",
       "       [0.08975766],\n",
       "       [0.09055982],\n",
       "       [0.08388922],\n",
       "       [0.09085536],\n",
       "       [0.0873934 ],\n",
       "       [0.09030651],\n",
       "       [0.09891919],\n",
       "       [0.09887697],\n",
       "       [0.10622309],\n",
       "       [0.1213375 ],\n",
       "       [0.10529427],\n",
       "       [0.10221228],\n",
       "       [0.12213966],\n",
       "       [0.12745926],\n",
       "       [0.1231107 ],\n",
       "       [0.1302035 ],\n",
       "       [0.13607194],\n",
       "       [0.13366546],\n",
       "       [0.1291058 ],\n",
       "       [0.12969687],\n",
       "       [0.12762813],\n",
       "       [0.1115849 ],\n",
       "       [0.10879845],\n",
       "       [0.1071519 ],\n",
       "       [0.09288187],\n",
       "       [0.10062906],\n",
       "       [0.09858144],\n",
       "       [0.11378029],\n",
       "       [0.12007093],\n",
       "       [0.12226632],\n",
       "       [0.11572237],\n",
       "       [0.12049312],\n",
       "       [0.1169045 ],\n",
       "       [0.11597568],\n",
       "       [0.11804441],\n",
       "       [0.11399139],\n",
       "       [0.10951617],\n",
       "       [0.10495651],\n",
       "       [0.1211264 ],\n",
       "       [0.11795998],\n",
       "       [0.11774888],\n",
       "       [0.10672971],\n",
       "       [0.10905176],\n",
       "       [0.09642827],\n",
       "       [0.09347294],\n",
       "       [0.08507135],\n",
       "       [0.08865997],\n",
       "       [0.07869628],\n",
       "       [0.06624166],\n",
       "       [0.07173014],\n",
       "       [0.07130795],\n",
       "       [0.07713417],\n",
       "       [0.07468547],\n",
       "       [0.06957697],\n",
       "       [0.07768302],\n",
       "       [0.07168792],\n",
       "       [0.0629908 ],\n",
       "       [0.06337077],\n",
       "       [0.05222494],\n",
       "       [0.04373892],\n",
       "       [0.02579583],\n",
       "       [0.027949  ],\n",
       "       [0.03457739],\n",
       "       [0.04061471],\n",
       "       [0.02976442],\n",
       "       [0.03875707],\n",
       "       [0.02866672],\n",
       "       [0.02668243],\n",
       "       [0.02723128],\n",
       "       [0.02516254],\n",
       "       [0.04677869],\n",
       "       [0.03841932],\n",
       "       [0.04074137],\n",
       "       [0.01300346],\n",
       "       [0.01583214],\n",
       "       [0.02955332],\n",
       "       [0.02571139],\n",
       "       [0.01747868],\n",
       "       [0.02537364],\n",
       "       [0.02642911],\n",
       "       [0.0155366 ],\n",
       "       [0.01971629],\n",
       "       [0.01963185],\n",
       "       [0.01659208],\n",
       "       [0.01418559],\n",
       "       [0.01540995],\n",
       "       [0.02659799],\n",
       "       [0.03284641],\n",
       "       [0.02499367],\n",
       "       [0.02406485],\n",
       "       [0.02761125],\n",
       "       [0.01836528],\n",
       "       [0.02431816],\n",
       "       [0.02710462],\n",
       "       [0.0277379 ],\n",
       "       [0.02680909],\n",
       "       [0.04302119],\n",
       "       [0.04395001],\n",
       "       [0.04711644],\n",
       "       [0.05349151],\n",
       "       [0.04867854],\n",
       "       [0.04513215],\n",
       "       [0.04551212],\n",
       "       [0.04572321],\n",
       "       [0.05032509],\n",
       "       [0.05142278],\n",
       "       [0.0601199 ],\n",
       "       [0.06598835],\n",
       "       [0.06527062],\n",
       "       [0.06577725],\n",
       "       [0.06573503],\n",
       "       [0.06915477],\n",
       "       [0.06666385],\n",
       "       [0.06472178],\n",
       "       [0.06269526],\n",
       "       [0.0732078 ],\n",
       "       [0.08114498],\n",
       "       [0.0787385 ],\n",
       "       [0.0829604 ],\n",
       "       [0.08773115],\n",
       "       [0.08220046],\n",
       "       [0.08705564],\n",
       "       [0.07683864],\n",
       "       [0.07734527],\n",
       "       [0.07886515],\n",
       "       [0.08486026],\n",
       "       [0.0916153 ],\n",
       "       [0.09186861],\n",
       "       [0.08236933],\n",
       "       [0.07236342],\n",
       "       [0.06995694],\n",
       "       [0.07088576],\n",
       "       [0.06598835],\n",
       "       [0.064764  ],\n",
       "       [0.06223085],\n",
       "       [0.05914886],\n",
       "       [0.03157984],\n",
       "       [0.01895635],\n",
       "       [0.01435447],\n",
       "       [0.01393228],\n",
       "       [0.02043401],\n",
       "       [0.01625433],\n",
       "       [0.01224352],\n",
       "       [0.01004813],\n",
       "       [0.01034366],\n",
       "       [0.01300346],\n",
       "       [0.00916153],\n",
       "       [0.        ],\n",
       "       [0.00075994],\n",
       "       [0.01494554],\n",
       "       [0.013299  ],\n",
       "       [0.01781643],\n",
       "       [0.01629655],\n",
       "       [0.02060289],\n",
       "       [0.02571139],\n",
       "       [0.03191759],\n",
       "       [0.03917926],\n",
       "       [0.04251457],\n",
       "       [0.04226125],\n",
       "       [0.04019252],\n",
       "       [0.03428185],\n",
       "       [0.03115765],\n",
       "       [0.03200203],\n",
       "       [0.03499958],\n",
       "       [0.03668834],\n",
       "       [0.03630837],\n",
       "       [0.03930592],\n",
       "       [0.03584396],\n",
       "       [0.02955332],\n",
       "       [0.03005995],\n",
       "       [0.02870894],\n",
       "       [0.03043992],\n",
       "       [0.0210673 ],\n",
       "       [0.02009626],\n",
       "       [0.023516  ],\n",
       "       [0.02199612],\n",
       "       [0.02431816],\n",
       "       [0.01291902],\n",
       "       [0.00717724],\n",
       "       [0.01372119],\n",
       "       [0.01714093],\n",
       "       [0.02220721],\n",
       "       [0.02343156],\n",
       "       [0.01963185],\n",
       "       [0.02191168],\n",
       "       [0.02364266],\n",
       "       [0.02676687],\n",
       "       [0.02803344],\n",
       "       [0.02989107],\n",
       "       [0.02756903],\n",
       "       [0.03567508],\n",
       "       [0.03563286],\n",
       "       [0.04006586],\n",
       "       [0.04023474],\n",
       "       [0.04061471],\n",
       "       [0.0383771 ],\n",
       "       [0.03512623],\n",
       "       [0.02955332],\n",
       "       [0.02672465],\n",
       "       [0.0532382 ],\n",
       "       [0.05910665],\n",
       "       [0.0585578 ],\n",
       "       [0.0663261 ],\n",
       "       [0.05969771],\n",
       "       [0.0652284 ],\n",
       "       [0.06556616],\n",
       "       [0.07236342],\n",
       "       [0.07612092],\n",
       "       [0.07797855],\n",
       "       [0.07455881],\n",
       "       [0.07426328],\n",
       "       [0.07531875],\n",
       "       [0.08080723],\n",
       "       [0.08038504],\n",
       "       [0.07970953],\n",
       "       [0.07911847],\n",
       "       [0.0803006 ],\n",
       "       [0.07671198],\n",
       "       [0.07814743],\n",
       "       [0.07468547],\n",
       "       [0.07274339],\n",
       "       [0.07008359],\n",
       "       [0.06957697],\n",
       "       [0.066115  ],\n",
       "       [0.06653719],\n",
       "       [0.06919699],\n",
       "       [0.0734189 ],\n",
       "       [0.07329224],\n",
       "       [0.0760787 ],\n",
       "       [0.06408849],\n",
       "       [0.05399814],\n",
       "       [0.06375074],\n",
       "       [0.07434772],\n",
       "       [0.09047539],\n",
       "       [0.10651862],\n",
       "       [0.10377438],\n",
       "       [0.09811703],\n",
       "       [0.09807481],\n",
       "       [0.09799037],\n",
       "       [0.10250781],\n",
       "       [0.09444398],\n",
       "       [0.0951617 ],\n",
       "       [0.0960483 ],\n",
       "       [0.09967914],\n",
       "       [0.09220637],\n",
       "       [0.09587942],\n",
       "       [0.09364181],\n",
       "       [0.09566833],\n",
       "       [0.09587942],\n",
       "       [0.09942582],\n",
       "       [0.10014354],\n",
       "       [0.10854513],\n",
       "       [0.10960061],\n",
       "       [0.11399139],\n",
       "       [0.1124715 ],\n",
       "       [0.11521574],\n",
       "       [0.11487799],\n",
       "       [0.11454023],\n",
       "       [0.11306257],\n",
       "       [0.11280925],\n",
       "       [0.11086718],\n",
       "       [0.11530018],\n",
       "       [0.11783332],\n",
       "       [0.10660306],\n",
       "       [0.10191674],\n",
       "       [0.0987081 ],\n",
       "       [0.09794816],\n",
       "       [0.08929325],\n",
       "       [0.08971544],\n",
       "       [0.08228489],\n",
       "       [0.07810521],\n",
       "       [0.0847336 ],\n",
       "       [0.08747784],\n",
       "       [0.08671789],\n",
       "       [0.07367221],\n",
       "       [0.07637423],\n",
       "       [0.06489065],\n",
       "       [0.07080132],\n",
       "       [0.0829604 ],\n",
       "       [0.08279152],\n",
       "       [0.08325593],\n",
       "       [0.09030651],\n",
       "       [0.09060204],\n",
       "       [0.08819556],\n",
       "       [0.09055982],\n",
       "       [0.08963101],\n",
       "       [0.0891666 ],\n",
       "       [0.08519801],\n",
       "       [0.08084945],\n",
       "       [0.08258043],\n",
       "       [0.07924512],\n",
       "       [0.08279152],\n",
       "       [0.08735118],\n",
       "       [0.09195305],\n",
       "       [0.09967914],\n",
       "       [0.0969349 ],\n",
       "       [0.1049143 ],\n",
       "       [0.1049143 ],\n",
       "       [0.10757409],\n",
       "       [0.10820738],\n",
       "       [0.11103606],\n",
       "       [0.11234485],\n",
       "       [0.11280925],\n",
       "       [0.10955839],\n",
       "       [0.11052943],\n",
       "       [0.11365364],\n",
       "       [0.11154268],\n",
       "       [0.11141603],\n",
       "       [0.10757409],\n",
       "       [0.10896732],\n",
       "       [0.10841848],\n",
       "       [0.1109094 ],\n",
       "       [0.11639787],\n",
       "       [0.12095753],\n",
       "       [0.12146416],\n",
       "       [0.12416617],\n",
       "       [0.12205522],\n",
       "       [0.12116862],\n",
       "       [0.12522165],\n",
       "       [0.12517943],\n",
       "       [0.12429283],\n",
       "       [0.12522165],\n",
       "       [0.1255594 ],\n",
       "       [0.12509499],\n",
       "       [0.13315883],\n",
       "       [0.13341214],\n",
       "       [0.13345436],\n",
       "       [0.13210335],\n",
       "       [0.13092122],\n",
       "       [0.1621633 ],\n",
       "       [0.16123448],\n",
       "       [0.16355653],\n",
       "       [0.16866503],\n",
       "       [0.17390019],\n",
       "       [0.17605336],\n",
       "       [0.17765769],\n",
       "       [0.17639112],\n",
       "       [0.18133074],\n",
       "       [0.18863464],\n",
       "       [0.19070337],\n",
       "       [0.19000676],\n",
       "       [0.19158997],\n",
       "       [0.19572743],\n",
       "       [0.19745841],\n",
       "       [0.19500971],\n",
       "       [0.19555856],\n",
       "       [0.19669847],\n",
       "       [0.19695179],\n",
       "       [0.20877311],\n",
       "       [0.20526894],\n",
       "       [0.2087309 ],\n",
       "       [0.20687326],\n",
       "       [0.2076332 ],\n",
       "       [0.20543781],\n",
       "       [0.2040868 ],\n",
       "       [0.20602888],\n",
       "       [0.20628219],\n",
       "       [0.20539559],\n",
       "       [0.21160179],\n",
       "       [0.21257283],\n",
       "       [0.2096175 ],\n",
       "       [0.21582369],\n",
       "       [0.20898421],\n",
       "       [0.21565482],\n",
       "       [0.21354387],\n",
       "       [0.21236173],\n",
       "       [0.21337499],\n",
       "       [0.22570295],\n",
       "       [0.22705396],\n",
       "       [0.22625179],\n",
       "       [0.22511188],\n",
       "       [0.22528076],\n",
       "       [0.22979819],\n",
       "       [0.22663177],\n",
       "       [0.22511188],\n",
       "       [0.22376087],\n",
       "       [0.22304315],\n",
       "       [0.21654142],\n",
       "       [0.21725914],\n",
       "       [0.21409271],\n",
       "       [0.2173858 ],\n",
       "       [0.214726  ],\n",
       "       [0.21253061],\n",
       "       [0.21996116],\n",
       "       [0.21924343],\n",
       "       [0.22502744],\n",
       "       [0.22878494],\n",
       "       [0.22519632],\n",
       "       [0.22566073],\n",
       "       [0.22506966],\n",
       "       [0.23743984],\n",
       "       [0.24136621],\n",
       "       [0.23946635],\n",
       "       [0.23722874],\n",
       "       [0.24748797],\n",
       "       [0.26458668],\n",
       "       [0.26872414],\n",
       "       [0.26564215],\n",
       "       [0.26855526],\n",
       "       [0.27763236],\n",
       "       [0.2759436 ],\n",
       "       [0.27497256],\n",
       "       [0.25293422],\n",
       "       [0.26260238],\n",
       "       [0.26479777],\n",
       "       [0.26872414],\n",
       "       [0.26792198],\n",
       "       [0.2659799 ],\n",
       "       [0.26821751],\n",
       "       [0.26711982],\n",
       "       [0.26737313],\n",
       "       [0.2635312 ],\n",
       "       [0.2653044 ],\n",
       "       [0.27488812],\n",
       "       [0.26847083],\n",
       "       [0.27066622],\n",
       "       [0.27455037],\n",
       "       [0.27294604],\n",
       "       [0.24757241],\n",
       "       [0.23254243],\n",
       "       [0.23748206],\n",
       "       [0.23144474],\n",
       "       [0.22777168],\n",
       "       [0.21924343],\n",
       "       [0.23642658],\n",
       "       [0.23081145],\n",
       "       [0.23444229],\n",
       "       [0.23342903],\n",
       "       [0.23617327],\n",
       "       [0.23423119],\n",
       "       [0.22540741],\n",
       "       [0.23427341],\n",
       "       [0.22519632],\n",
       "       [0.22663177],\n",
       "       [0.22443638],\n",
       "       [0.2269273 ],\n",
       "       [0.22118551],\n",
       "       [0.22730727],\n",
       "       [0.23102254],\n",
       "       [0.23300684],\n",
       "       [0.23389344],\n",
       "       [0.2424639 ],\n",
       "       [0.24782572],\n",
       "       [0.25002111],\n",
       "       [0.2522165 ],\n",
       "       [0.25618509],\n",
       "       [0.25331419],\n",
       "       [0.25301866],\n",
       "       [0.26070252],\n",
       "       [0.26344676],\n",
       "       [0.26648653],\n",
       "       [0.25424301],\n",
       "       [0.2497678 ],\n",
       "       [0.24651693],\n",
       "       [0.25208984],\n",
       "       [0.28202314],\n",
       "       [0.27539475],\n",
       "       [0.27885671],\n",
       "       [0.28907371],\n",
       "       [0.29443553],\n",
       "       [0.298573  ],\n",
       "       [0.27433927],\n",
       "       [0.28345858],\n",
       "       [0.29346449],\n",
       "       [0.30085282],\n",
       "       [0.29810859],\n",
       "       [0.28506291],\n",
       "       [0.28354302],\n",
       "       [0.28231867],\n",
       "       [0.29316896],\n",
       "       [0.29401334],\n",
       "       [0.29101579],\n",
       "       [0.29350671],\n",
       "       [0.30030398],\n",
       "       [0.30638352],\n",
       "       [0.30824116],\n",
       "       [0.31098539],\n",
       "       [0.31119649],\n",
       "       [0.30287934],\n",
       "       [0.30216161],\n",
       "       [0.29941738],\n",
       "       [0.28831377],\n",
       "       [0.30043063],\n",
       "       [0.29772862],\n",
       "       [0.29262011],\n",
       "       [0.28683611],\n",
       "       [0.29359115],\n",
       "       [0.28848265],\n",
       "       [0.28873596],\n",
       "       [0.2775057 ],\n",
       "       [0.266191  ],\n",
       "       [0.25985814],\n",
       "       [0.25420079],\n",
       "       [0.26513552],\n",
       "       [0.2697374 ],\n",
       "       [0.26572659],\n",
       "       [0.26927299],\n",
       "       [0.2679642 ],\n",
       "       [0.27079287],\n",
       "       [0.26657097],\n",
       "       [0.27463481],\n",
       "       [0.27425483],\n",
       "       [0.27653466],\n",
       "       [0.27678798],\n",
       "       [0.27953221],\n",
       "       [0.27721017],\n",
       "       [0.28138985],\n",
       "       [0.29359115],\n",
       "       [0.29608207],\n",
       "       [0.29308452],\n",
       "       [0.27712573],\n",
       "       [0.27826564],\n",
       "       [0.27792789],\n",
       "       [0.28185426],\n",
       "       [0.27894115],\n",
       "       [0.28316305],\n",
       "       [0.30697458],\n",
       "       [0.32246897],\n",
       "       [0.33226378],\n",
       "       [0.32318669],\n",
       "       [0.32833741],\n",
       "       [0.34687157],\n",
       "       [0.3542599 ],\n",
       "       [0.35662417],\n",
       "       [0.36266149],\n",
       "       [0.3611416 ],\n",
       "       [0.3560331 ],\n",
       "       [0.35307777],\n",
       "       [0.34197416],\n",
       "       [0.33243266],\n",
       "       [0.34096091],\n",
       "       [0.3369501 ],\n",
       "       [0.33623237],\n",
       "       [0.34957359],\n",
       "       [0.35725745],\n",
       "       [0.35729967],\n",
       "       [0.3535844 ],\n",
       "       [0.34927805],\n",
       "       [0.33412142],\n",
       "       [0.34412733],\n",
       "       [0.34074981],\n",
       "       [0.33547243],\n",
       "       [0.33479693],\n",
       "       [0.33213713],\n",
       "       [0.33344592],\n",
       "       [0.33365701],\n",
       "       [0.34758929],\n",
       "       [0.34349405],\n",
       "       [0.34590053],\n",
       "       [0.34568944],\n",
       "       [0.35307777],\n",
       "       [0.36342143],\n",
       "       [0.35548425],\n",
       "       [0.35468209],\n",
       "       [0.35746855],\n",
       "       [0.35746855],\n",
       "       [0.3387233 ],\n",
       "       [0.33884995],\n",
       "       [0.34087647],\n",
       "       [0.33306595],\n",
       "       [0.34585831],\n",
       "       [0.34573166],\n",
       "       [0.34910918],\n",
       "       [0.35742633],\n",
       "       [0.35468209],\n",
       "       [0.35459765],\n",
       "       [0.35442878],\n",
       "       [0.35860846],\n",
       "       [0.36625011],\n",
       "       [0.36245039],\n",
       "       [0.37473613],\n",
       "       [0.37541164],\n",
       "       [0.37203411],\n",
       "       [0.36587013],\n",
       "       [0.36603901],\n",
       "       [0.35413324],\n",
       "       [0.34100312],\n",
       "       [0.34269189],\n",
       "       [0.32770413],\n",
       "       [0.32352444],\n",
       "       [0.32546652],\n",
       "       [0.32694419],\n",
       "       [0.29620873],\n",
       "       [0.2792789 ],\n",
       "       [0.30689015],\n",
       "       [0.2921557 ],\n",
       "       [0.27362155],\n",
       "       [0.27894115],\n",
       "       [0.30553914],\n",
       "       [0.31242084],\n",
       "       [0.32521321],\n",
       "       [0.3489403 ],\n",
       "       [0.34657604],\n",
       "       [0.34412733],\n",
       "       [0.34083425],\n",
       "       [0.34687157],\n",
       "       [0.35953728],\n",
       "       [0.37418728],\n",
       "       [0.37173858],\n",
       "       [0.37059867],\n",
       "       [0.35742633],\n",
       "       [0.36253483],\n",
       "       [0.36511019],\n",
       "       [0.36447691],\n",
       "       [0.35755298],\n",
       "       [0.36561682],\n",
       "       [0.37845141],\n",
       "       [0.38579752],\n",
       "       [0.37840919],\n",
       "       [0.37194967],\n",
       "       [0.37283627],\n",
       "       [0.37017648],\n",
       "       [0.3586929 ],\n",
       "       [0.35843958],\n",
       "       [0.34167863],\n",
       "       [0.33146162],\n",
       "       [0.31495398],\n",
       "       [0.34801148],\n",
       "       [0.32930845],\n",
       "       [0.32145571],\n",
       "       [0.32694419],\n",
       "       [0.32230009],\n",
       "       [0.32951955],\n",
       "       [0.34311408],\n",
       "       [0.34813814],\n",
       "       [0.32947733],\n",
       "       [0.33652791],\n",
       "       [0.350038  ],\n",
       "       [0.34661826],\n",
       "       [0.35379549],\n",
       "       [0.35628641],\n",
       "       [0.36088829],\n",
       "       [0.37110529],\n",
       "       [0.36941653],\n",
       "       [0.34813814],\n",
       "       [0.31824707],\n",
       "       [0.31622055],\n",
       "       [0.30651017],\n",
       "       [0.30950773],\n",
       "       [0.31191421],\n",
       "       [0.30389259],\n",
       "       [0.31630499],\n",
       "       [0.3325171 ],\n",
       "       [0.36405472],\n",
       "       [0.36540572],\n",
       "       [0.39470573],\n",
       "       [0.40032086],\n",
       "       [0.40407836],\n",
       "       [0.40960905],\n",
       "       [0.42092375],\n",
       "       [0.41480199],\n",
       "       [0.41294436],\n",
       "       [0.4057249 ],\n",
       "       [0.41307101],\n",
       "       [0.40804695],\n",
       "       [0.40517605],\n",
       "       [0.41074897],\n",
       "       [0.40876467],\n",
       "       [0.41383095],\n",
       "       [0.41294436],\n",
       "       [0.41475977],\n",
       "       [0.41188888],\n",
       "       [0.41020012],\n",
       "       [0.40754032],\n",
       "       [0.42176813],\n",
       "       [0.42848096],\n",
       "       [0.43472938],\n",
       "       [0.43755805],\n",
       "       [0.43536266],\n",
       "       [0.42793211],\n",
       "       [0.42594782],\n",
       "       [0.43038082],\n",
       "       [0.42371021],\n",
       "       [0.4241324 ],\n",
       "       [0.41585747],\n",
       "       [0.41543528],\n",
       "       [0.40255847],\n",
       "       [0.40597821],\n",
       "       [0.40158744],\n",
       "       [0.39930761],\n",
       "       [0.38769737],\n",
       "       [0.39723888],\n",
       "       [0.39609896],\n",
       "       [0.40175631],\n",
       "       [0.40010977],\n",
       "       [0.40884911],\n",
       "       [0.3950857 ],\n",
       "       [0.40133412],\n",
       "       [0.41218441],\n",
       "       [0.42320358],\n",
       "       [0.42223254],\n",
       "       [0.41180444],\n",
       "       [0.42510344],\n",
       "       [0.42637001],\n",
       "       [0.42459681],\n",
       "       [0.42687664],\n",
       "       [0.42244364],\n",
       "       [0.42869205],\n",
       "       [0.42683442],\n",
       "       [0.42755214],\n",
       "       [0.43342059],\n",
       "       [0.44110445],\n",
       "       [0.43852909],\n",
       "       [0.42489234],\n",
       "       [0.42037491],\n",
       "       [0.42197923],\n",
       "       [0.46930676],\n",
       "       [0.49417377],\n",
       "       [0.49670692],\n",
       "       [0.50126657],\n",
       "       [0.49299164],\n",
       "       [0.49358271],\n",
       "       [0.50046441],\n",
       "       [0.49476484],\n",
       "       [0.50042219],\n",
       "       [0.50413747],\n",
       "       [0.5062062 ],\n",
       "       [0.51920966],\n",
       "       [0.53719497],\n",
       "       [0.52824453],\n",
       "       [0.52647133]])"
      ]
     },
     "execution_count": 14,
     "metadata": {},
     "output_type": "execute_result"
    }
   ],
   "source": [
    "train_data\n"
   ]
  },
  {
   "cell_type": "code",
   "execution_count": 15,
   "id": "bad940f0",
   "metadata": {
    "execution": {
     "iopub.execute_input": "2024-03-05T19:44:29.245660Z",
     "iopub.status.busy": "2024-03-05T19:44:29.244727Z",
     "iopub.status.idle": "2024-03-05T19:44:29.252411Z",
     "shell.execute_reply": "2024-03-05T19:44:29.251313Z"
    },
    "papermill": {
     "duration": 0.024104,
     "end_time": "2024-03-05T19:44:29.255460",
     "exception": false,
     "start_time": "2024-03-05T19:44:29.231356",
     "status": "completed"
    },
    "tags": []
   },
   "outputs": [],
   "source": [
    "import numpy\n",
    "def create_dataset(dataset, time_step=1):\n",
    "\tdataX, dataY = [], []\n",
    "\tfor i in range(len(dataset)-time_step-1):\n",
    "\t\ta = dataset[i:(i+time_step), 0]   \n",
    "\t\tdataX.append(a)\n",
    "\t\tdataY.append(dataset[i + time_step, 0])\n",
    "\treturn numpy.array(dataX), numpy.array(dataY)\n"
   ]
  },
  {
   "cell_type": "code",
   "execution_count": 16,
   "id": "ff3111a7",
   "metadata": {
    "execution": {
     "iopub.execute_input": "2024-03-05T19:44:29.281488Z",
     "iopub.status.busy": "2024-03-05T19:44:29.281013Z",
     "iopub.status.idle": "2024-03-05T19:44:29.289819Z",
     "shell.execute_reply": "2024-03-05T19:44:29.288360Z"
    },
    "papermill": {
     "duration": 0.025948,
     "end_time": "2024-03-05T19:44:29.293291",
     "exception": false,
     "start_time": "2024-03-05T19:44:29.267343",
     "status": "completed"
    },
    "tags": []
   },
   "outputs": [],
   "source": [
    "time_step = 100\n",
    "X_train, y_train = create_dataset(train_data, time_step)\n",
    "X_test, ytest = create_dataset(test_data, time_step)"
   ]
  },
  {
   "cell_type": "code",
   "execution_count": 17,
   "id": "0e6176e3",
   "metadata": {
    "execution": {
     "iopub.execute_input": "2024-03-05T19:44:29.320985Z",
     "iopub.status.busy": "2024-03-05T19:44:29.320488Z",
     "iopub.status.idle": "2024-03-05T19:44:29.329572Z",
     "shell.execute_reply": "2024-03-05T19:44:29.328134Z"
    },
    "papermill": {
     "duration": 0.026014,
     "end_time": "2024-03-05T19:44:29.332598",
     "exception": false,
     "start_time": "2024-03-05T19:44:29.306584",
     "status": "completed"
    },
    "tags": []
   },
   "outputs": [
    {
     "name": "stdout",
     "output_type": "stream",
     "text": [
      "(716, 100)\n",
      "(716,)\n"
     ]
    },
    {
     "data": {
      "text/plain": [
       "(None, None)"
      ]
     },
     "execution_count": 17,
     "metadata": {},
     "output_type": "execute_result"
    }
   ],
   "source": [
    "print(X_train.shape), print(y_train.shape)\n"
   ]
  },
  {
   "cell_type": "code",
   "execution_count": 18,
   "id": "38e30d60",
   "metadata": {
    "execution": {
     "iopub.execute_input": "2024-03-05T19:44:29.359511Z",
     "iopub.status.busy": "2024-03-05T19:44:29.359059Z",
     "iopub.status.idle": "2024-03-05T19:44:29.368118Z",
     "shell.execute_reply": "2024-03-05T19:44:29.366596Z"
    },
    "papermill": {
     "duration": 0.026215,
     "end_time": "2024-03-05T19:44:29.371459",
     "exception": false,
     "start_time": "2024-03-05T19:44:29.345244",
     "status": "completed"
    },
    "tags": []
   },
   "outputs": [
    {
     "name": "stdout",
     "output_type": "stream",
     "text": [
      "(340, 100)\n",
      "(340,)\n"
     ]
    },
    {
     "data": {
      "text/plain": [
       "(None, None)"
      ]
     },
     "execution_count": 18,
     "metadata": {},
     "output_type": "execute_result"
    }
   ],
   "source": [
    "print(X_test.shape), print(ytest.shape)\n"
   ]
  },
  {
   "cell_type": "code",
   "execution_count": 19,
   "id": "94b41e38",
   "metadata": {
    "execution": {
     "iopub.execute_input": "2024-03-05T19:44:29.400541Z",
     "iopub.status.busy": "2024-03-05T19:44:29.400087Z",
     "iopub.status.idle": "2024-03-05T19:44:29.406253Z",
     "shell.execute_reply": "2024-03-05T19:44:29.404624Z"
    },
    "papermill": {
     "duration": 0.023938,
     "end_time": "2024-03-05T19:44:29.408936",
     "exception": false,
     "start_time": "2024-03-05T19:44:29.384998",
     "status": "completed"
    },
    "tags": []
   },
   "outputs": [],
   "source": [
    "# reshape input to be [samples, time steps, features] which is required for LSTM\n",
    "X_train =X_train.reshape(X_train.shape[0],X_train.shape[1] , 1)\n",
    "X_test = X_test.reshape(X_test.shape[0],X_test.shape[1] , 1)"
   ]
  },
  {
   "cell_type": "code",
   "execution_count": 20,
   "id": "260617ce",
   "metadata": {
    "execution": {
     "iopub.execute_input": "2024-03-05T19:44:29.436482Z",
     "iopub.status.busy": "2024-03-05T19:44:29.435557Z",
     "iopub.status.idle": "2024-03-05T19:44:36.277016Z",
     "shell.execute_reply": "2024-03-05T19:44:36.275841Z"
    },
    "papermill": {
     "duration": 6.858134,
     "end_time": "2024-03-05T19:44:36.280013",
     "exception": false,
     "start_time": "2024-03-05T19:44:29.421879",
     "status": "completed"
    },
    "tags": []
   },
   "outputs": [],
   "source": [
    "### Create the Stacked LSTM model\n",
    "from tensorflow.keras.models import Sequential\n",
    "from tensorflow.keras.layers import Dense\n",
    "from tensorflow.keras.layers import LSTM"
   ]
  },
  {
   "cell_type": "code",
   "execution_count": 21,
   "id": "9adf6d33",
   "metadata": {
    "execution": {
     "iopub.execute_input": "2024-03-05T19:44:36.307123Z",
     "iopub.status.busy": "2024-03-05T19:44:36.306306Z",
     "iopub.status.idle": "2024-03-05T19:44:37.210730Z",
     "shell.execute_reply": "2024-03-05T19:44:37.209474Z"
    },
    "papermill": {
     "duration": 0.921272,
     "end_time": "2024-03-05T19:44:37.213729",
     "exception": false,
     "start_time": "2024-03-05T19:44:36.292457",
     "status": "completed"
    },
    "tags": []
   },
   "outputs": [],
   "source": [
    "model=Sequential()\n",
    "model.add(LSTM(50,return_sequences=True,input_shape=(100,1)))\n",
    "model.add(LSTM(50,return_sequences=True))\n",
    "model.add(LSTM(50))\n",
    "model.add(Dense(1))\n",
    "model.compile(loss='mean_squared_error',optimizer='adam')"
   ]
  },
  {
   "cell_type": "code",
   "execution_count": 22,
   "id": "b2cb05ad",
   "metadata": {
    "execution": {
     "iopub.execute_input": "2024-03-05T19:44:37.240109Z",
     "iopub.status.busy": "2024-03-05T19:44:37.239642Z",
     "iopub.status.idle": "2024-03-05T19:44:37.247167Z",
     "shell.execute_reply": "2024-03-05T19:44:37.245704Z"
    },
    "papermill": {
     "duration": 0.023758,
     "end_time": "2024-03-05T19:44:37.249859",
     "exception": false,
     "start_time": "2024-03-05T19:44:37.226101",
     "status": "completed"
    },
    "tags": []
   },
   "outputs": [
    {
     "name": "stdout",
     "output_type": "stream",
     "text": [
      "Model: \"sequential\"\n",
      "_________________________________________________________________\n",
      "Layer (type)                 Output Shape              Param #   \n",
      "=================================================================\n",
      "lstm (LSTM)                  (None, 100, 50)           10400     \n",
      "_________________________________________________________________\n",
      "lstm_1 (LSTM)                (None, 100, 50)           20200     \n",
      "_________________________________________________________________\n",
      "lstm_2 (LSTM)                (None, 50)                20200     \n",
      "_________________________________________________________________\n",
      "dense (Dense)                (None, 1)                 51        \n",
      "=================================================================\n",
      "Total params: 50,851\n",
      "Trainable params: 50,851\n",
      "Non-trainable params: 0\n",
      "_________________________________________________________________\n"
     ]
    }
   ],
   "source": [
    "model.summary()\n"
   ]
  },
  {
   "cell_type": "code",
   "execution_count": 23,
   "id": "a8d250a2",
   "metadata": {
    "execution": {
     "iopub.execute_input": "2024-03-05T19:44:37.276437Z",
     "iopub.status.busy": "2024-03-05T19:44:37.275941Z",
     "iopub.status.idle": "2024-03-05T19:44:37.283839Z",
     "shell.execute_reply": "2024-03-05T19:44:37.282674Z"
    },
    "papermill": {
     "duration": 0.024633,
     "end_time": "2024-03-05T19:44:37.286830",
     "exception": false,
     "start_time": "2024-03-05T19:44:37.262197",
     "status": "completed"
    },
    "tags": []
   },
   "outputs": [
    {
     "name": "stdout",
     "output_type": "stream",
     "text": [
      "Model: \"sequential\"\n",
      "_________________________________________________________________\n",
      "Layer (type)                 Output Shape              Param #   \n",
      "=================================================================\n",
      "lstm (LSTM)                  (None, 100, 50)           10400     \n",
      "_________________________________________________________________\n",
      "lstm_1 (LSTM)                (None, 100, 50)           20200     \n",
      "_________________________________________________________________\n",
      "lstm_2 (LSTM)                (None, 50)                20200     \n",
      "_________________________________________________________________\n",
      "dense (Dense)                (None, 1)                 51        \n",
      "=================================================================\n",
      "Total params: 50,851\n",
      "Trainable params: 50,851\n",
      "Non-trainable params: 0\n",
      "_________________________________________________________________\n"
     ]
    }
   ],
   "source": [
    "model.summary()\n"
   ]
  },
  {
   "cell_type": "code",
   "execution_count": 24,
   "id": "18eaf76a",
   "metadata": {
    "execution": {
     "iopub.execute_input": "2024-03-05T19:44:37.313531Z",
     "iopub.status.busy": "2024-03-05T19:44:37.313047Z",
     "iopub.status.idle": "2024-03-05T19:50:05.801050Z",
     "shell.execute_reply": "2024-03-05T19:50:05.799992Z"
    },
    "papermill": {
     "duration": 328.504371,
     "end_time": "2024-03-05T19:50:05.803698",
     "exception": false,
     "start_time": "2024-03-05T19:44:37.299327",
     "status": "completed"
    },
    "tags": []
   },
   "outputs": [
    {
     "name": "stdout",
     "output_type": "stream",
     "text": [
      "Epoch 1/100\n",
      "12/12 [==============================] - 11s 389ms/step - loss: 0.0224 - val_loss: 0.0609\n",
      "Epoch 2/100\n",
      "12/12 [==============================] - 3s 261ms/step - loss: 0.0046 - val_loss: 0.0043\n",
      "Epoch 3/100\n",
      "12/12 [==============================] - 3s 268ms/step - loss: 0.0014 - val_loss: 0.0049\n",
      "Epoch 4/100\n",
      "12/12 [==============================] - 3s 257ms/step - loss: 9.0096e-04 - val_loss: 0.0045\n",
      "Epoch 5/100\n",
      "12/12 [==============================] - 4s 332ms/step - loss: 7.2349e-04 - val_loss: 0.0055\n",
      "Epoch 6/100\n",
      "12/12 [==============================] - 3s 264ms/step - loss: 6.4506e-04 - val_loss: 0.0049\n",
      "Epoch 7/100\n",
      "12/12 [==============================] - 3s 263ms/step - loss: 6.1407e-04 - val_loss: 0.0039\n",
      "Epoch 8/100\n",
      "12/12 [==============================] - 3s 269ms/step - loss: 5.8239e-04 - val_loss: 0.0035\n",
      "Epoch 9/100\n",
      "12/12 [==============================] - 3s 265ms/step - loss: 5.8244e-04 - val_loss: 0.0034\n",
      "Epoch 10/100\n",
      "12/12 [==============================] - 3s 257ms/step - loss: 6.1087e-04 - val_loss: 0.0033\n",
      "Epoch 11/100\n",
      "12/12 [==============================] - 3s 256ms/step - loss: 5.7881e-04 - val_loss: 0.0033\n",
      "Epoch 12/100\n",
      "12/12 [==============================] - 3s 273ms/step - loss: 7.2229e-04 - val_loss: 0.0033\n",
      "Epoch 13/100\n",
      "12/12 [==============================] - 3s 266ms/step - loss: 5.8129e-04 - val_loss: 0.0031\n",
      "Epoch 14/100\n",
      "12/12 [==============================] - 3s 262ms/step - loss: 5.3674e-04 - val_loss: 0.0031\n",
      "Epoch 15/100\n",
      "12/12 [==============================] - 4s 337ms/step - loss: 5.1698e-04 - val_loss: 0.0030\n",
      "Epoch 16/100\n",
      "12/12 [==============================] - 3s 260ms/step - loss: 5.0341e-04 - val_loss: 0.0033\n",
      "Epoch 17/100\n",
      "12/12 [==============================] - 3s 265ms/step - loss: 5.1486e-04 - val_loss: 0.0033\n",
      "Epoch 18/100\n",
      "12/12 [==============================] - 3s 269ms/step - loss: 4.9343e-04 - val_loss: 0.0027\n",
      "Epoch 19/100\n",
      "12/12 [==============================] - 3s 268ms/step - loss: 4.8288e-04 - val_loss: 0.0026\n",
      "Epoch 20/100\n",
      "12/12 [==============================] - 3s 257ms/step - loss: 4.7625e-04 - val_loss: 0.0026\n",
      "Epoch 21/100\n",
      "12/12 [==============================] - 3s 282ms/step - loss: 4.6697e-04 - val_loss: 0.0024\n",
      "Epoch 22/100\n",
      "12/12 [==============================] - 3s 270ms/step - loss: 4.4167e-04 - val_loss: 0.0023\n",
      "Epoch 23/100\n",
      "12/12 [==============================] - 3s 264ms/step - loss: 4.3340e-04 - val_loss: 0.0022\n",
      "Epoch 24/100\n",
      "12/12 [==============================] - 3s 281ms/step - loss: 4.5505e-04 - val_loss: 0.0021\n",
      "Epoch 25/100\n",
      "12/12 [==============================] - 4s 304ms/step - loss: 4.0992e-04 - val_loss: 0.0020\n",
      "Epoch 26/100\n",
      "12/12 [==============================] - 3s 278ms/step - loss: 4.0343e-04 - val_loss: 0.0019\n",
      "Epoch 27/100\n",
      "12/12 [==============================] - 3s 274ms/step - loss: 4.0921e-04 - val_loss: 0.0018\n",
      "Epoch 28/100\n",
      "12/12 [==============================] - 3s 275ms/step - loss: 3.8405e-04 - val_loss: 0.0017\n",
      "Epoch 29/100\n",
      "12/12 [==============================] - 3s 271ms/step - loss: 3.8284e-04 - val_loss: 0.0016\n",
      "Epoch 30/100\n",
      "12/12 [==============================] - 3s 283ms/step - loss: 4.0658e-04 - val_loss: 0.0018\n",
      "Epoch 31/100\n",
      "12/12 [==============================] - 4s 295ms/step - loss: 3.6069e-04 - val_loss: 0.0015\n",
      "Epoch 32/100\n",
      "12/12 [==============================] - 3s 262ms/step - loss: 3.6338e-04 - val_loss: 0.0016\n",
      "Epoch 33/100\n",
      "12/12 [==============================] - 3s 266ms/step - loss: 3.4655e-04 - val_loss: 0.0015\n",
      "Epoch 34/100\n",
      "12/12 [==============================] - 4s 329ms/step - loss: 3.3279e-04 - val_loss: 0.0015\n",
      "Epoch 35/100\n",
      "12/12 [==============================] - 3s 267ms/step - loss: 3.9021e-04 - val_loss: 0.0019\n",
      "Epoch 36/100\n",
      "12/12 [==============================] - 3s 271ms/step - loss: 3.5191e-04 - val_loss: 0.0014\n",
      "Epoch 37/100\n",
      "12/12 [==============================] - 3s 268ms/step - loss: 3.3423e-04 - val_loss: 0.0014\n",
      "Epoch 38/100\n",
      "12/12 [==============================] - 3s 258ms/step - loss: 3.1813e-04 - val_loss: 0.0015\n",
      "Epoch 39/100\n",
      "12/12 [==============================] - 3s 256ms/step - loss: 3.3613e-04 - val_loss: 0.0014\n",
      "Epoch 40/100\n",
      "12/12 [==============================] - 3s 261ms/step - loss: 3.0211e-04 - val_loss: 0.0014\n",
      "Epoch 41/100\n",
      "12/12 [==============================] - 3s 257ms/step - loss: 3.1540e-04 - val_loss: 0.0014\n",
      "Epoch 42/100\n",
      "12/12 [==============================] - 3s 256ms/step - loss: 3.6956e-04 - val_loss: 0.0014\n",
      "Epoch 43/100\n",
      "12/12 [==============================] - 3s 267ms/step - loss: 3.8125e-04 - val_loss: 0.0016\n",
      "Epoch 44/100\n",
      "12/12 [==============================] - 4s 339ms/step - loss: 3.3355e-04 - val_loss: 0.0016\n",
      "Epoch 45/100\n",
      "12/12 [==============================] - 3s 263ms/step - loss: 3.3694e-04 - val_loss: 0.0030\n",
      "Epoch 46/100\n",
      "12/12 [==============================] - 3s 268ms/step - loss: 3.4056e-04 - val_loss: 0.0013\n",
      "Epoch 47/100\n",
      "12/12 [==============================] - 3s 257ms/step - loss: 2.8643e-04 - val_loss: 0.0021\n",
      "Epoch 48/100\n",
      "12/12 [==============================] - 3s 259ms/step - loss: 3.3135e-04 - val_loss: 0.0013\n",
      "Epoch 49/100\n",
      "12/12 [==============================] - 3s 267ms/step - loss: 3.2013e-04 - val_loss: 0.0013\n",
      "Epoch 50/100\n",
      "12/12 [==============================] - 3s 270ms/step - loss: 2.9713e-04 - val_loss: 0.0021\n",
      "Epoch 51/100\n",
      "12/12 [==============================] - 3s 256ms/step - loss: 2.6822e-04 - val_loss: 0.0013\n",
      "Epoch 52/100\n",
      "12/12 [==============================] - 3s 272ms/step - loss: 2.5301e-04 - val_loss: 0.0013\n",
      "Epoch 53/100\n",
      "12/12 [==============================] - 3s 260ms/step - loss: 2.5372e-04 - val_loss: 0.0015\n",
      "Epoch 54/100\n",
      "12/12 [==============================] - 4s 341ms/step - loss: 2.4526e-04 - val_loss: 0.0012\n",
      "Epoch 55/100\n",
      "12/12 [==============================] - 3s 280ms/step - loss: 2.4759e-04 - val_loss: 0.0013\n",
      "Epoch 56/100\n",
      "12/12 [==============================] - 3s 266ms/step - loss: 2.3556e-04 - val_loss: 0.0022\n",
      "Epoch 57/100\n",
      "12/12 [==============================] - 3s 261ms/step - loss: 2.5096e-04 - val_loss: 0.0012\n",
      "Epoch 58/100\n",
      "12/12 [==============================] - 3s 264ms/step - loss: 2.7264e-04 - val_loss: 0.0030\n",
      "Epoch 59/100\n",
      "12/12 [==============================] - 3s 260ms/step - loss: 2.8536e-04 - val_loss: 0.0012\n",
      "Epoch 60/100\n",
      "12/12 [==============================] - 3s 261ms/step - loss: 2.5717e-04 - val_loss: 0.0029\n",
      "Epoch 61/100\n",
      "12/12 [==============================] - 3s 265ms/step - loss: 2.5622e-04 - val_loss: 0.0012\n",
      "Epoch 62/100\n",
      "12/12 [==============================] - 3s 260ms/step - loss: 2.2658e-04 - val_loss: 0.0013\n",
      "Epoch 63/100\n",
      "12/12 [==============================] - 3s 260ms/step - loss: 2.0855e-04 - val_loss: 0.0015\n",
      "Epoch 64/100\n",
      "12/12 [==============================] - 4s 312ms/step - loss: 2.1334e-04 - val_loss: 0.0012\n",
      "Epoch 65/100\n",
      "12/12 [==============================] - 3s 260ms/step - loss: 2.0715e-04 - val_loss: 0.0013\n",
      "Epoch 66/100\n",
      "12/12 [==============================] - 3s 258ms/step - loss: 2.0365e-04 - val_loss: 0.0011\n",
      "Epoch 67/100\n",
      "12/12 [==============================] - 3s 257ms/step - loss: 1.9453e-04 - val_loss: 0.0011\n",
      "Epoch 68/100\n",
      "12/12 [==============================] - 3s 262ms/step - loss: 1.9325e-04 - val_loss: 0.0014\n",
      "Epoch 69/100\n",
      "12/12 [==============================] - 3s 259ms/step - loss: 2.0902e-04 - val_loss: 0.0014\n",
      "Epoch 70/100\n",
      "12/12 [==============================] - 3s 264ms/step - loss: 2.1974e-04 - val_loss: 0.0022\n",
      "Epoch 71/100\n",
      "12/12 [==============================] - 3s 265ms/step - loss: 2.1582e-04 - val_loss: 0.0011\n",
      "Epoch 72/100\n",
      "12/12 [==============================] - 3s 262ms/step - loss: 1.9257e-04 - val_loss: 0.0012\n",
      "Epoch 73/100\n",
      "12/12 [==============================] - 3s 273ms/step - loss: 1.8241e-04 - val_loss: 0.0011\n",
      "Epoch 74/100\n",
      "12/12 [==============================] - 4s 300ms/step - loss: 1.8840e-04 - val_loss: 0.0011\n",
      "Epoch 75/100\n",
      "12/12 [==============================] - 3s 260ms/step - loss: 1.7616e-04 - val_loss: 0.0011\n",
      "Epoch 76/100\n",
      "12/12 [==============================] - 3s 253ms/step - loss: 1.7458e-04 - val_loss: 0.0013\n",
      "Epoch 77/100\n",
      "12/12 [==============================] - 3s 259ms/step - loss: 1.7125e-04 - val_loss: 0.0015\n",
      "Epoch 78/100\n",
      "12/12 [==============================] - 3s 256ms/step - loss: 2.3234e-04 - val_loss: 0.0016\n",
      "Epoch 79/100\n",
      "12/12 [==============================] - 3s 255ms/step - loss: 2.5464e-04 - val_loss: 0.0011\n",
      "Epoch 80/100\n",
      "12/12 [==============================] - 3s 262ms/step - loss: 1.8319e-04 - val_loss: 0.0011\n",
      "Epoch 81/100\n",
      "12/12 [==============================] - 3s 259ms/step - loss: 1.7122e-04 - val_loss: 0.0010\n",
      "Epoch 82/100\n",
      "12/12 [==============================] - 3s 261ms/step - loss: 1.7828e-04 - val_loss: 0.0012\n",
      "Epoch 83/100\n",
      "12/12 [==============================] - 3s 263ms/step - loss: 1.8676e-04 - val_loss: 0.0010\n",
      "Epoch 84/100\n",
      "12/12 [==============================] - 4s 313ms/step - loss: 1.6698e-04 - val_loss: 9.7887e-04\n",
      "Epoch 85/100\n",
      "12/12 [==============================] - 3s 264ms/step - loss: 1.9275e-04 - val_loss: 0.0013\n",
      "Epoch 86/100\n",
      "12/12 [==============================] - 3s 259ms/step - loss: 2.0039e-04 - val_loss: 0.0012\n",
      "Epoch 87/100\n",
      "12/12 [==============================] - 3s 259ms/step - loss: 2.0638e-04 - val_loss: 0.0010\n",
      "Epoch 88/100\n",
      "12/12 [==============================] - 3s 255ms/step - loss: 1.7213e-04 - val_loss: 0.0011\n",
      "Epoch 89/100\n",
      "12/12 [==============================] - 3s 255ms/step - loss: 1.5485e-04 - val_loss: 9.9512e-04\n",
      "Epoch 90/100\n",
      "12/12 [==============================] - 3s 257ms/step - loss: 1.6092e-04 - val_loss: 9.4401e-04\n",
      "Epoch 91/100\n",
      "12/12 [==============================] - 3s 253ms/step - loss: 1.4407e-04 - val_loss: 9.3360e-04\n",
      "Epoch 92/100\n",
      "12/12 [==============================] - 3s 255ms/step - loss: 1.5966e-04 - val_loss: 0.0010\n",
      "Epoch 93/100\n",
      "12/12 [==============================] - 3s 260ms/step - loss: 1.7721e-04 - val_loss: 0.0012\n",
      "Epoch 94/100\n",
      "12/12 [==============================] - 4s 322ms/step - loss: 1.7740e-04 - val_loss: 9.3785e-04\n",
      "Epoch 95/100\n",
      "12/12 [==============================] - 3s 252ms/step - loss: 1.6416e-04 - val_loss: 9.2222e-04\n",
      "Epoch 96/100\n",
      "12/12 [==============================] - 3s 258ms/step - loss: 1.4504e-04 - val_loss: 9.0960e-04\n",
      "Epoch 97/100\n",
      "12/12 [==============================] - 3s 256ms/step - loss: 1.3917e-04 - val_loss: 9.0877e-04\n",
      "Epoch 98/100\n",
      "12/12 [==============================] - 3s 254ms/step - loss: 1.5622e-04 - val_loss: 0.0010\n",
      "Epoch 99/100\n",
      "12/12 [==============================] - 3s 267ms/step - loss: 1.6019e-04 - val_loss: 9.6801e-04\n",
      "Epoch 100/100\n",
      "12/12 [==============================] - 3s 255ms/step - loss: 1.3940e-04 - val_loss: 0.0010\n"
     ]
    },
    {
     "data": {
      "text/plain": [
       "<keras.callbacks.History at 0x7e6533f94c10>"
      ]
     },
     "execution_count": 24,
     "metadata": {},
     "output_type": "execute_result"
    }
   ],
   "source": [
    "model.fit(X_train,y_train,validation_data=(X_test,ytest),epochs=100,batch_size=64,verbose=1)\n"
   ]
  },
  {
   "cell_type": "code",
   "execution_count": 25,
   "id": "84486b6a",
   "metadata": {
    "execution": {
     "iopub.execute_input": "2024-03-05T19:50:06.008210Z",
     "iopub.status.busy": "2024-03-05T19:50:06.006695Z",
     "iopub.status.idle": "2024-03-05T19:50:06.013469Z",
     "shell.execute_reply": "2024-03-05T19:50:06.012093Z"
    },
    "papermill": {
     "duration": 0.112249,
     "end_time": "2024-03-05T19:50:06.016392",
     "exception": false,
     "start_time": "2024-03-05T19:50:05.904143",
     "status": "completed"
    },
    "tags": []
   },
   "outputs": [],
   "source": [
    "import tensorflow as tf\n"
   ]
  },
  {
   "cell_type": "code",
   "execution_count": 26,
   "id": "711d86aa",
   "metadata": {
    "execution": {
     "iopub.execute_input": "2024-03-05T19:50:06.217173Z",
     "iopub.status.busy": "2024-03-05T19:50:06.216681Z",
     "iopub.status.idle": "2024-03-05T19:50:09.493240Z",
     "shell.execute_reply": "2024-03-05T19:50:09.491788Z"
    },
    "papermill": {
     "duration": 3.379754,
     "end_time": "2024-03-05T19:50:09.496225",
     "exception": false,
     "start_time": "2024-03-05T19:50:06.116471",
     "status": "completed"
    },
    "tags": []
   },
   "outputs": [],
   "source": [
    "### Lets Do the prediction and check performance metrics\n",
    "train_predict=model.predict(X_train)\n",
    "test_predict=model.predict(X_test)"
   ]
  },
  {
   "cell_type": "code",
   "execution_count": 27,
   "id": "57b81635",
   "metadata": {
    "execution": {
     "iopub.execute_input": "2024-03-05T19:50:09.699928Z",
     "iopub.status.busy": "2024-03-05T19:50:09.699202Z",
     "iopub.status.idle": "2024-03-05T19:50:09.705169Z",
     "shell.execute_reply": "2024-03-05T19:50:09.704257Z"
    },
    "papermill": {
     "duration": 0.111421,
     "end_time": "2024-03-05T19:50:09.707576",
     "exception": false,
     "start_time": "2024-03-05T19:50:09.596155",
     "status": "completed"
    },
    "tags": []
   },
   "outputs": [],
   "source": [
    "##Transformback to original form\n",
    "train_predict=scaler.inverse_transform(train_predict)\n",
    "test_predict=scaler.inverse_transform(test_predict)"
   ]
  },
  {
   "cell_type": "code",
   "execution_count": 28,
   "id": "6291627b",
   "metadata": {
    "execution": {
     "iopub.execute_input": "2024-03-05T19:50:09.912796Z",
     "iopub.status.busy": "2024-03-05T19:50:09.912109Z",
     "iopub.status.idle": "2024-03-05T19:50:09.971128Z",
     "shell.execute_reply": "2024-03-05T19:50:09.969824Z"
    },
    "papermill": {
     "duration": 0.164514,
     "end_time": "2024-03-05T19:50:09.974076",
     "exception": false,
     "start_time": "2024-03-05T19:50:09.809562",
     "status": "completed"
    },
    "tags": []
   },
   "outputs": [
    {
     "data": {
      "text/plain": [
       "140.66201928893707"
      ]
     },
     "execution_count": 28,
     "metadata": {},
     "output_type": "execute_result"
    }
   ],
   "source": [
    "### Calculate RMSE performance metrics\n",
    "import math\n",
    "from sklearn.metrics import mean_squared_error\n",
    "math.sqrt(mean_squared_error(y_train,train_predict))\n"
   ]
  },
  {
   "cell_type": "code",
   "execution_count": 29,
   "id": "c01a6616",
   "metadata": {
    "execution": {
     "iopub.execute_input": "2024-03-05T19:50:10.177691Z",
     "iopub.status.busy": "2024-03-05T19:50:10.176900Z",
     "iopub.status.idle": "2024-03-05T19:50:10.183451Z",
     "shell.execute_reply": "2024-03-05T19:50:10.182544Z"
    },
    "papermill": {
     "duration": 0.108753,
     "end_time": "2024-03-05T19:50:10.185582",
     "exception": false,
     "start_time": "2024-03-05T19:50:10.076829",
     "status": "completed"
    },
    "tags": []
   },
   "outputs": [
    {
     "data": {
      "text/plain": [
       "235.41078121165634"
      ]
     },
     "execution_count": 29,
     "metadata": {},
     "output_type": "execute_result"
    }
   ],
   "source": [
    "### Test Data RMSE\n",
    "math.sqrt(mean_squared_error(ytest,test_predict))\n"
   ]
  },
  {
   "cell_type": "code",
   "execution_count": 30,
   "id": "30a6b065",
   "metadata": {
    "execution": {
     "iopub.execute_input": "2024-03-05T19:50:10.385203Z",
     "iopub.status.busy": "2024-03-05T19:50:10.384477Z",
     "iopub.status.idle": "2024-03-05T19:50:10.561823Z",
     "shell.execute_reply": "2024-03-05T19:50:10.560882Z"
    },
    "papermill": {
     "duration": 0.280246,
     "end_time": "2024-03-05T19:50:10.564174",
     "exception": false,
     "start_time": "2024-03-05T19:50:10.283928",
     "status": "completed"
    },
    "tags": []
   },
   "outputs": [
    {
     "data": {
      "image/png": "[encoded data removed]",
      "text/plain": [
       "<Figure size 432x288 with 1 Axes>"
      ]
     },
     "metadata": {
      "needs_background": "light"
     },
     "output_type": "display_data"
    }
   ],
   "source": [
    "### Plotting \n",
    "# shift train predictions for plotting\n",
    "look_back=100\n",
    "trainPredictPlot = numpy.empty_like(df1)\n",
    "trainPredictPlot[:, :] = np.nan\n",
    "trainPredictPlot[look_back:len(train_predict)+look_back, :] = train_predict\n",
    "# shift test predictions for plotting\n",
    "testPredictPlot = numpy.empty_like(df1)\n",
    "testPredictPlot[:, :] = numpy.nan\n",
    "testPredictPlot[len(train_predict)+(look_back*2)+1:len(df1)-1, :] = test_predict\n",
    "# plot baseline and predictions\n",
    "plt.plot(scaler.inverse_transform(df1))\n",
    "plt.plot(trainPredictPlot)\n",
    "plt.plot(testPredictPlot)\n",
    "plt.show()"
   ]
  },
  {
   "cell_type": "code",
   "execution_count": 31,
   "id": "5915bc49",
   "metadata": {
    "execution": {
     "iopub.execute_input": "2024-03-05T19:50:10.765959Z",
     "iopub.status.busy": "2024-03-05T19:50:10.765239Z",
     "iopub.status.idle": "2024-03-05T19:50:10.771070Z",
     "shell.execute_reply": "2024-03-05T19:50:10.770057Z"
    },
    "papermill": {
     "duration": 0.11034,
     "end_time": "2024-03-05T19:50:10.773660",
     "exception": false,
     "start_time": "2024-03-05T19:50:10.663320",
     "status": "completed"
    },
    "tags": []
   },
   "outputs": [
    {
     "data": {
      "text/plain": [
       "441"
      ]
     },
     "execution_count": 31,
     "metadata": {},
     "output_type": "execute_result"
    }
   ],
   "source": [
    "len(test_data)"
   ]
  },
  {
   "cell_type": "code",
   "execution_count": 32,
   "id": "d8b650df",
   "metadata": {
    "execution": {
     "iopub.execute_input": "2024-03-05T19:50:11.069820Z",
     "iopub.status.busy": "2024-03-05T19:50:11.069327Z",
     "iopub.status.idle": "2024-03-05T19:50:11.076956Z",
     "shell.execute_reply": "2024-03-05T19:50:11.075634Z"
    },
    "papermill": {
     "duration": 0.113744,
     "end_time": "2024-03-05T19:50:11.079292",
     "exception": false,
     "start_time": "2024-03-05T19:50:10.965548",
     "status": "completed"
    },
    "tags": []
   },
   "outputs": [
    {
     "data": {
      "text/plain": [
       "(1, 100)"
      ]
     },
     "execution_count": 32,
     "metadata": {},
     "output_type": "execute_result"
    }
   ],
   "source": [
    "x_input=test_data[341:].reshape(1,-1)\n",
    "x_input.shape"
   ]
  },
  {
   "cell_type": "code",
   "execution_count": 33,
   "id": "94fe0862",
   "metadata": {
    "execution": {
     "iopub.execute_input": "2024-03-05T19:50:11.279945Z",
     "iopub.status.busy": "2024-03-05T19:50:11.279214Z",
     "iopub.status.idle": "2024-03-05T19:50:11.284500Z",
     "shell.execute_reply": "2024-03-05T19:50:11.283655Z"
    },
    "papermill": {
     "duration": 0.108584,
     "end_time": "2024-03-05T19:50:11.286765",
     "exception": false,
     "start_time": "2024-03-05T19:50:11.178181",
     "status": "completed"
    },
    "tags": []
   },
   "outputs": [],
   "source": [
    "temp_input=list(x_input)\n",
    "temp_input=temp_input[0].tolist()"
   ]
  },
  {
   "cell_type": "code",
   "execution_count": 34,
   "id": "7a6c858d",
   "metadata": {
    "execution": {
     "iopub.execute_input": "2024-03-05T19:50:11.499993Z",
     "iopub.status.busy": "2024-03-05T19:50:11.499492Z",
     "iopub.status.idle": "2024-03-05T19:50:11.507231Z",
     "shell.execute_reply": "2024-03-05T19:50:11.506050Z"
    },
    "papermill": {
     "duration": 0.114861,
     "end_time": "2024-03-05T19:50:11.509656",
     "exception": false,
     "start_time": "2024-03-05T19:50:11.394795",
     "status": "completed"
    },
    "tags": []
   },
   "outputs": [
    {
     "data": {
      "text/plain": [
       "[0.8583551465000423,\n",
       " 0.8866418981676942,\n",
       " 0.8743139407244789,\n",
       " 0.8843198513890065,\n",
       " 0.8783669678290975,\n",
       " 0.8986321033521913,\n",
       " 0.925821160179009,\n",
       " 0.9287764924427933,\n",
       " 0.9567677108840666,\n",
       " 0.9386979650426415,\n",
       " 0.933040614709111,\n",
       " 0.9495060373216249,\n",
       " 0.9642404796082076,\n",
       " 0.9551211686228154,\n",
       " 0.9598919192772104,\n",
       " 0.9663514312251966,\n",
       " 0.9624672802499368,\n",
       " 0.9229502659799038,\n",
       " 0.9598497002448705,\n",
       " 0.9879253567508233,\n",
       " 0.985941062230854,\n",
       " 0.9253145317909315,\n",
       " 0.9217259140420504,\n",
       " 0.964747107996285,\n",
       " 0.9757240564046274,\n",
       " 0.9915984125643842,\n",
       " 0.9697289538123788,\n",
       " 0.9761462467280253,\n",
       " 0.9679557544541082,\n",
       " 1.0000000000000002,\n",
       " 0.9901629654648318,\n",
       " 0.9905007177235499,\n",
       " 0.9653803934813816,\n",
       " 0.9848855864223593,\n",
       " 0.9708688676855528,\n",
       " 0.9402600692392133,\n",
       " 0.8774803681499621,\n",
       " 0.8348391454867856,\n",
       " 0.8541332432660644,\n",
       " 0.7733682344000676,\n",
       " 0.7726927298826314,\n",
       " 0.8801401671873683,\n",
       " 0.8400743054969182,\n",
       " 0.8967322468969012,\n",
       " 0.8552731571392387,\n",
       " 0.8388499535590646,\n",
       " 0.7423372456303303,\n",
       " 0.8232711306256861,\n",
       " 0.7814320695769654,\n",
       " 0.6665963016127672,\n",
       " 0.7921557037912694,\n",
       " 0.6411804441442204,\n",
       " 0.6861437135860848,\n",
       " 0.6600101325677616,\n",
       " 0.6520307354555435,\n",
       " 0.5864223591995272,\n",
       " 0.5658616904500551,\n",
       " 0.660896732246897,\n",
       " 0.6551549438486872,\n",
       " 0.7097019336316812,\n",
       " 0.664527569028118,\n",
       " 0.6943764248923416,\n",
       " 0.692181035210673,\n",
       " 0.6356919699400492,\n",
       " 0.6526640209406402,\n",
       " 0.637802921557038,\n",
       " 0.7267162036646122,\n",
       " 0.7138816178333194,\n",
       " 0.7419150553069325,\n",
       " 0.7500211095161702,\n",
       " 0.7722283205268936,\n",
       " 0.8304905851557884,\n",
       " 0.8194291986827664,\n",
       " 0.8289706999915563,\n",
       " 0.8125474964113824,\n",
       " 0.7877649244279323,\n",
       " 0.7516254327450818,\n",
       " 0.7842607447437306,\n",
       " 0.7797433082833742,\n",
       " 0.8132652199611587,\n",
       " 0.8141096006079542,\n",
       " 0.7947310647639958,\n",
       " 0.8333614793548934,\n",
       " 0.8589884319851391,\n",
       " 0.8390188296884238,\n",
       " 0.8562864139153934,\n",
       " 0.8748627881448958,\n",
       " 0.887824031073208,\n",
       " 0.9009541501308793,\n",
       " 0.9279321117959978,\n",
       " 0.9485349995778098,\n",
       " 0.9333361479354896,\n",
       " 0.9174617917757326,\n",
       " 0.925441188887951,\n",
       " 0.9177151059697712,\n",
       " 0.9483239044161109,\n",
       " 0.9406400405302711,\n",
       " 0.9663514312251966,\n",
       " 0.9563033015283293,\n",
       " 0.964915984125644]"
      ]
     },
     "execution_count": 34,
     "metadata": {},
     "output_type": "execute_result"
    }
   ],
   "source": [
    "temp_input"
   ]
  },
  {
   "cell_type": "code",
   "execution_count": 35,
   "id": "46b8c792",
   "metadata": {
    "execution": {
     "iopub.execute_input": "2024-03-05T19:50:11.718381Z",
     "iopub.status.busy": "2024-03-05T19:50:11.717944Z",
     "iopub.status.idle": "2024-03-05T19:50:13.804310Z",
     "shell.execute_reply": "2024-03-05T19:50:13.803037Z"
    },
    "papermill": {
     "duration": 2.194659,
     "end_time": "2024-03-05T19:50:13.807215",
     "exception": false,
     "start_time": "2024-03-05T19:50:11.612556",
     "status": "completed"
    },
    "tags": []
   },
   "outputs": [
    {
     "name": "stdout",
     "output_type": "stream",
     "text": [
      "[0.93996507]\n",
      "101\n",
      "1 day input [0.8866419  0.87431394 0.88431985 0.87836697 0.8986321  0.92582116\n",
      " 0.92877649 0.95676771 0.93869797 0.93304061 0.94950604 0.96424048\n",
      " 0.95512117 0.95989192 0.96635143 0.96246728 0.92295027 0.9598497\n",
      " 0.98792536 0.98594106 0.92531453 0.92172591 0.96474711 0.97572406\n",
      " 0.99159841 0.96972895 0.97614625 0.96795575 1.         0.99016297\n",
      " 0.99050072 0.96538039 0.98488559 0.97086887 0.94026007 0.87748037\n",
      " 0.83483915 0.85413324 0.77336823 0.77269273 0.88014017 0.84007431\n",
      " 0.89673225 0.85527316 0.83884995 0.74233725 0.82327113 0.78143207\n",
      " 0.6665963  0.7921557  0.64118044 0.68614371 0.66001013 0.65203074\n",
      " 0.58642236 0.56586169 0.66089673 0.65515494 0.70970193 0.66452757\n",
      " 0.69437642 0.69218104 0.63569197 0.65266402 0.63780292 0.7267162\n",
      " 0.71388162 0.74191506 0.75002111 0.77222832 0.83049059 0.8194292\n",
      " 0.8289707  0.8125475  0.78776492 0.75162543 0.78426074 0.77974331\n",
      " 0.81326522 0.8141096  0.79473106 0.83336148 0.85898843 0.83901883\n",
      " 0.85628641 0.87486279 0.88782403 0.90095415 0.92793211 0.948535\n",
      " 0.93333615 0.91746179 0.92544119 0.91771511 0.9483239  0.94064004\n",
      " 0.96635143 0.9563033  0.96491598 0.93996507]\n",
      "1 day output [[0.9350463]]\n",
      "2 day input [0.87431394 0.88431985 0.87836697 0.8986321  0.92582116 0.92877649\n",
      " 0.95676771 0.93869797 0.93304061 0.94950604 0.96424048 0.95512117\n",
      " 0.95989192 0.96635143 0.96246728 0.92295027 0.9598497  0.98792536\n",
      " 0.98594106 0.92531453 0.92172591 0.96474711 0.97572406 0.99159841\n",
      " 0.96972895 0.97614625 0.96795575 1.         0.99016297 0.99050072\n",
      " 0.96538039 0.98488559 0.97086887 0.94026007 0.87748037 0.83483915\n",
      " 0.85413324 0.77336823 0.77269273 0.88014017 0.84007431 0.89673225\n",
      " 0.85527316 0.83884995 0.74233725 0.82327113 0.78143207 0.6665963\n",
      " 0.7921557  0.64118044 0.68614371 0.66001013 0.65203074 0.58642236\n",
      " 0.56586169 0.66089673 0.65515494 0.70970193 0.66452757 0.69437642\n",
      " 0.69218104 0.63569197 0.65266402 0.63780292 0.7267162  0.71388162\n",
      " 0.74191506 0.75002111 0.77222832 0.83049059 0.8194292  0.8289707\n",
      " 0.8125475  0.78776492 0.75162543 0.78426074 0.77974331 0.81326522\n",
      " 0.8141096  0.79473106 0.83336148 0.85898843 0.83901883 0.85628641\n",
      " 0.87486279 0.88782403 0.90095415 0.92793211 0.948535   0.93333615\n",
      " 0.91746179 0.92544119 0.91771511 0.9483239  0.94064004 0.96635143\n",
      " 0.9563033  0.96491598 0.93996507 0.93504632]\n",
      "2 day output [[0.9272284]]\n",
      "3 day input [0.88431985 0.87836697 0.8986321  0.92582116 0.92877649 0.95676771\n",
      " 0.93869797 0.93304061 0.94950604 0.96424048 0.95512117 0.95989192\n",
      " 0.96635143 0.96246728 0.92295027 0.9598497  0.98792536 0.98594106\n",
      " 0.92531453 0.92172591 0.96474711 0.97572406 0.99159841 0.96972895\n",
      " 0.97614625 0.96795575 1.         0.99016297 0.99050072 0.96538039\n",
      " 0.98488559 0.97086887 0.94026007 0.87748037 0.83483915 0.85413324\n",
      " 0.77336823 0.77269273 0.88014017 0.84007431 0.89673225 0.85527316\n",
      " 0.83884995 0.74233725 0.82327113 0.78143207 0.6665963  0.7921557\n",
      " 0.64118044 0.68614371 0.66001013 0.65203074 0.58642236 0.56586169\n",
      " 0.66089673 0.65515494 0.70970193 0.66452757 0.69437642 0.69218104\n",
      " 0.63569197 0.65266402 0.63780292 0.7267162  0.71388162 0.74191506\n",
      " 0.75002111 0.77222832 0.83049059 0.8194292  0.8289707  0.8125475\n",
      " 0.78776492 0.75162543 0.78426074 0.77974331 0.81326522 0.8141096\n",
      " 0.79473106 0.83336148 0.85898843 0.83901883 0.85628641 0.87486279\n",
      " 0.88782403 0.90095415 0.92793211 0.948535   0.93333615 0.91746179\n",
      " 0.92544119 0.91771511 0.9483239  0.94064004 0.96635143 0.9563033\n",
      " 0.96491598 0.93996507 0.93504632 0.92722839]\n",
      "3 day output [[0.92039424]]\n",
      "4 day input [0.87836697 0.8986321  0.92582116 0.92877649 0.95676771 0.93869797\n",
      " 0.93304061 0.94950604 0.96424048 0.95512117 0.95989192 0.96635143\n",
      " 0.96246728 0.92295027 0.9598497  0.98792536 0.98594106 0.92531453\n",
      " 0.92172591 0.96474711 0.97572406 0.99159841 0.96972895 0.97614625\n",
      " 0.96795575 1.         0.99016297 0.99050072 0.96538039 0.98488559\n",
      " 0.97086887 0.94026007 0.87748037 0.83483915 0.85413324 0.77336823\n",
      " 0.77269273 0.88014017 0.84007431 0.89673225 0.85527316 0.83884995\n",
      " 0.74233725 0.82327113 0.78143207 0.6665963  0.7921557  0.64118044\n",
      " 0.68614371 0.66001013 0.65203074 0.58642236 0.56586169 0.66089673\n",
      " 0.65515494 0.70970193 0.66452757 0.69437642 0.69218104 0.63569197\n",
      " 0.65266402 0.63780292 0.7267162  0.71388162 0.74191506 0.75002111\n",
      " 0.77222832 0.83049059 0.8194292  0.8289707  0.8125475  0.78776492\n",
      " 0.75162543 0.78426074 0.77974331 0.81326522 0.8141096  0.79473106\n",
      " 0.83336148 0.85898843 0.83901883 0.85628641 0.87486279 0.88782403\n",
      " 0.90095415 0.92793211 0.948535   0.93333615 0.91746179 0.92544119\n",
      " 0.91771511 0.9483239  0.94064004 0.96635143 0.9563033  0.96491598\n",
      " 0.93996507 0.93504632 0.92722839 0.92039424]\n",
      "4 day output [[0.9155723]]\n",
      "5 day input [0.8986321  0.92582116 0.92877649 0.95676771 0.93869797 0.93304061\n",
      " 0.94950604 0.96424048 0.95512117 0.95989192 0.96635143 0.96246728\n",
      " 0.92295027 0.9598497  0.98792536 0.98594106 0.92531453 0.92172591\n",
      " 0.96474711 0.97572406 0.99159841 0.96972895 0.97614625 0.96795575\n",
      " 1.         0.99016297 0.99050072 0.96538039 0.98488559 0.97086887\n",
      " 0.94026007 0.87748037 0.83483915 0.85413324 0.77336823 0.77269273\n",
      " 0.88014017 0.84007431 0.89673225 0.85527316 0.83884995 0.74233725\n",
      " 0.82327113 0.78143207 0.6665963  0.7921557  0.64118044 0.68614371\n",
      " 0.66001013 0.65203074 0.58642236 0.56586169 0.66089673 0.65515494\n",
      " 0.70970193 0.66452757 0.69437642 0.69218104 0.63569197 0.65266402\n",
      " 0.63780292 0.7267162  0.71388162 0.74191506 0.75002111 0.77222832\n",
      " 0.83049059 0.8194292  0.8289707  0.8125475  0.78776492 0.75162543\n",
      " 0.78426074 0.77974331 0.81326522 0.8141096  0.79473106 0.83336148\n",
      " 0.85898843 0.83901883 0.85628641 0.87486279 0.88782403 0.90095415\n",
      " 0.92793211 0.948535   0.93333615 0.91746179 0.92544119 0.91771511\n",
      " 0.9483239  0.94064004 0.96635143 0.9563033  0.96491598 0.93996507\n",
      " 0.93504632 0.92722839 0.92039424 0.91557229]\n",
      "5 day output [[0.91267705]]\n",
      "6 day input [0.92582116 0.92877649 0.95676771 0.93869797 0.93304061 0.94950604\n",
      " 0.96424048 0.95512117 0.95989192 0.96635143 0.96246728 0.92295027\n",
      " 0.9598497  0.98792536 0.98594106 0.92531453 0.92172591 0.96474711\n",
      " 0.97572406 0.99159841 0.96972895 0.97614625 0.96795575 1.\n",
      " 0.99016297 0.99050072 0.96538039 0.98488559 0.97086887 0.94026007\n",
      " 0.87748037 0.83483915 0.85413324 0.77336823 0.77269273 0.88014017\n",
      " 0.84007431 0.89673225 0.85527316 0.83884995 0.74233725 0.82327113\n",
      " 0.78143207 0.6665963  0.7921557  0.64118044 0.68614371 0.66001013\n",
      " 0.65203074 0.58642236 0.56586169 0.66089673 0.65515494 0.70970193\n",
      " 0.66452757 0.69437642 0.69218104 0.63569197 0.65266402 0.63780292\n",
      " 0.7267162  0.71388162 0.74191506 0.75002111 0.77222832 0.83049059\n",
      " 0.8194292  0.8289707  0.8125475  0.78776492 0.75162543 0.78426074\n",
      " 0.77974331 0.81326522 0.8141096  0.79473106 0.83336148 0.85898843\n",
      " 0.83901883 0.85628641 0.87486279 0.88782403 0.90095415 0.92793211\n",
      " 0.948535   0.93333615 0.91746179 0.92544119 0.91771511 0.9483239\n",
      " 0.94064004 0.96635143 0.9563033  0.96491598 0.93996507 0.93504632\n",
      " 0.92722839 0.92039424 0.91557229 0.91267705]\n",
      "6 day output [[0.9113051]]\n",
      "7 day input [0.92877649 0.95676771 0.93869797 0.93304061 0.94950604 0.96424048\n",
      " 0.95512117 0.95989192 0.96635143 0.96246728 0.92295027 0.9598497\n",
      " 0.98792536 0.98594106 0.92531453 0.92172591 0.96474711 0.97572406\n",
      " 0.99159841 0.96972895 0.97614625 0.96795575 1.         0.99016297\n",
      " 0.99050072 0.96538039 0.98488559 0.97086887 0.94026007 0.87748037\n",
      " 0.83483915 0.85413324 0.77336823 0.77269273 0.88014017 0.84007431\n",
      " 0.89673225 0.85527316 0.83884995 0.74233725 0.82327113 0.78143207\n",
      " 0.6665963  0.7921557  0.64118044 0.68614371 0.66001013 0.65203074\n",
      " 0.58642236 0.56586169 0.66089673 0.65515494 0.70970193 0.66452757\n",
      " 0.69437642 0.69218104 0.63569197 0.65266402 0.63780292 0.7267162\n",
      " 0.71388162 0.74191506 0.75002111 0.77222832 0.83049059 0.8194292\n",
      " 0.8289707  0.8125475  0.78776492 0.75162543 0.78426074 0.77974331\n",
      " 0.81326522 0.8141096  0.79473106 0.83336148 0.85898843 0.83901883\n",
      " 0.85628641 0.87486279 0.88782403 0.90095415 0.92793211 0.948535\n",
      " 0.93333615 0.91746179 0.92544119 0.91771511 0.9483239  0.94064004\n",
      " 0.96635143 0.9563033  0.96491598 0.93996507 0.93504632 0.92722839\n",
      " 0.92039424 0.91557229 0.91267705 0.91130513]\n",
      "7 day output [[0.91097355]]\n",
      "8 day input [0.95676771 0.93869797 0.93304061 0.94950604 0.96424048 0.95512117\n",
      " 0.95989192 0.96635143 0.96246728 0.92295027 0.9598497  0.98792536\n",
      " 0.98594106 0.92531453 0.92172591 0.96474711 0.97572406 0.99159841\n",
      " 0.96972895 0.97614625 0.96795575 1.         0.99016297 0.99050072\n",
      " 0.96538039 0.98488559 0.97086887 0.94026007 0.87748037 0.83483915\n",
      " 0.85413324 0.77336823 0.77269273 0.88014017 0.84007431 0.89673225\n",
      " 0.85527316 0.83884995 0.74233725 0.82327113 0.78143207 0.6665963\n",
      " 0.7921557  0.64118044 0.68614371 0.66001013 0.65203074 0.58642236\n",
      " 0.56586169 0.66089673 0.65515494 0.70970193 0.66452757 0.69437642\n",
      " 0.69218104 0.63569197 0.65266402 0.63780292 0.7267162  0.71388162\n",
      " 0.74191506 0.75002111 0.77222832 0.83049059 0.8194292  0.8289707\n",
      " 0.8125475  0.78776492 0.75162543 0.78426074 0.77974331 0.81326522\n",
      " 0.8141096  0.79473106 0.83336148 0.85898843 0.83901883 0.85628641\n",
      " 0.87486279 0.88782403 0.90095415 0.92793211 0.948535   0.93333615\n",
      " 0.91746179 0.92544119 0.91771511 0.9483239  0.94064004 0.96635143\n",
      " 0.9563033  0.96491598 0.93996507 0.93504632 0.92722839 0.92039424\n",
      " 0.91557229 0.91267705 0.91130513 0.91097355]\n",
      "8 day output [[0.9112076]]\n",
      "9 day input [0.93869797 0.93304061 0.94950604 0.96424048 0.95512117 0.95989192\n",
      " 0.96635143 0.96246728 0.92295027 0.9598497  0.98792536 0.98594106\n",
      " 0.92531453 0.92172591 0.96474711 0.97572406 0.99159841 0.96972895\n",
      " 0.97614625 0.96795575 1.         0.99016297 0.99050072 0.96538039\n",
      " 0.98488559 0.97086887 0.94026007 0.87748037 0.83483915 0.85413324\n",
      " 0.77336823 0.77269273 0.88014017 0.84007431 0.89673225 0.85527316\n",
      " 0.83884995 0.74233725 0.82327113 0.78143207 0.6665963  0.7921557\n",
      " 0.64118044 0.68614371 0.66001013 0.65203074 0.58642236 0.56586169\n",
      " 0.66089673 0.65515494 0.70970193 0.66452757 0.69437642 0.69218104\n",
      " 0.63569197 0.65266402 0.63780292 0.7267162  0.71388162 0.74191506\n",
      " 0.75002111 0.77222832 0.83049059 0.8194292  0.8289707  0.8125475\n",
      " 0.78776492 0.75162543 0.78426074 0.77974331 0.81326522 0.8141096\n",
      " 0.79473106 0.83336148 0.85898843 0.83901883 0.85628641 0.87486279\n",
      " 0.88782403 0.90095415 0.92793211 0.948535   0.93333615 0.91746179\n",
      " 0.92544119 0.91771511 0.9483239  0.94064004 0.96635143 0.9563033\n",
      " 0.96491598 0.93996507 0.93504632 0.92722839 0.92039424 0.91557229\n",
      " 0.91267705 0.91130513 0.91097355 0.91120762]\n",
      "9 day output [[0.91160285]]\n",
      "10 day input [0.93304061 0.94950604 0.96424048 0.95512117 0.95989192 0.96635143\n",
      " 0.96246728 0.92295027 0.9598497  0.98792536 0.98594106 0.92531453\n",
      " 0.92172591 0.96474711 0.97572406 0.99159841 0.96972895 0.97614625\n",
      " 0.96795575 1.         0.99016297 0.99050072 0.96538039 0.98488559\n",
      " 0.97086887 0.94026007 0.87748037 0.83483915 0.85413324 0.77336823\n",
      " 0.77269273 0.88014017 0.84007431 0.89673225 0.85527316 0.83884995\n",
      " 0.74233725 0.82327113 0.78143207 0.6665963  0.7921557  0.64118044\n",
      " 0.68614371 0.66001013 0.65203074 0.58642236 0.56586169 0.66089673\n",
      " 0.65515494 0.70970193 0.66452757 0.69437642 0.69218104 0.63569197\n",
      " 0.65266402 0.63780292 0.7267162  0.71388162 0.74191506 0.75002111\n",
      " 0.77222832 0.83049059 0.8194292  0.8289707  0.8125475  0.78776492\n",
      " 0.75162543 0.78426074 0.77974331 0.81326522 0.8141096  0.79473106\n",
      " 0.83336148 0.85898843 0.83901883 0.85628641 0.87486279 0.88782403\n",
      " 0.90095415 0.92793211 0.948535   0.93333615 0.91746179 0.92544119\n",
      " 0.91771511 0.9483239  0.94064004 0.96635143 0.9563033  0.96491598\n",
      " 0.93996507 0.93504632 0.92722839 0.92039424 0.91557229 0.91267705\n",
      " 0.91130513 0.91097355 0.91120762 0.91160285]\n",
      "10 day output [[0.9118635]]\n",
      "11 day input [0.94950604 0.96424048 0.95512117 0.95989192 0.96635143 0.96246728\n",
      " 0.92295027 0.9598497  0.98792536 0.98594106 0.92531453 0.92172591\n",
      " 0.96474711 0.97572406 0.99159841 0.96972895 0.97614625 0.96795575\n",
      " 1.         0.99016297 0.99050072 0.96538039 0.98488559 0.97086887\n",
      " 0.94026007 0.87748037 0.83483915 0.85413324 0.77336823 0.77269273\n",
      " 0.88014017 0.84007431 0.89673225 0.85527316 0.83884995 0.74233725\n",
      " 0.82327113 0.78143207 0.6665963  0.7921557  0.64118044 0.68614371\n",
      " 0.66001013 0.65203074 0.58642236 0.56586169 0.66089673 0.65515494\n",
      " 0.70970193 0.66452757 0.69437642 0.69218104 0.63569197 0.65266402\n",
      " 0.63780292 0.7267162  0.71388162 0.74191506 0.75002111 0.77222832\n",
      " 0.83049059 0.8194292  0.8289707  0.8125475  0.78776492 0.75162543\n",
      " 0.78426074 0.77974331 0.81326522 0.8141096  0.79473106 0.83336148\n",
      " 0.85898843 0.83901883 0.85628641 0.87486279 0.88782403 0.90095415\n",
      " 0.92793211 0.948535   0.93333615 0.91746179 0.92544119 0.91771511\n",
      " 0.9483239  0.94064004 0.96635143 0.9563033  0.96491598 0.93996507\n",
      " 0.93504632 0.92722839 0.92039424 0.91557229 0.91267705 0.91130513\n",
      " 0.91097355 0.91120762 0.91160285 0.91186351]\n",
      "11 day output [[0.91181725]]\n",
      "12 day input [0.96424048 0.95512117 0.95989192 0.96635143 0.96246728 0.92295027\n",
      " 0.9598497  0.98792536 0.98594106 0.92531453 0.92172591 0.96474711\n",
      " 0.97572406 0.99159841 0.96972895 0.97614625 0.96795575 1.\n",
      " 0.99016297 0.99050072 0.96538039 0.98488559 0.97086887 0.94026007\n",
      " 0.87748037 0.83483915 0.85413324 0.77336823 0.77269273 0.88014017\n",
      " 0.84007431 0.89673225 0.85527316 0.83884995 0.74233725 0.82327113\n",
      " 0.78143207 0.6665963  0.7921557  0.64118044 0.68614371 0.66001013\n",
      " 0.65203074 0.58642236 0.56586169 0.66089673 0.65515494 0.70970193\n",
      " 0.66452757 0.69437642 0.69218104 0.63569197 0.65266402 0.63780292\n",
      " 0.7267162  0.71388162 0.74191506 0.75002111 0.77222832 0.83049059\n",
      " 0.8194292  0.8289707  0.8125475  0.78776492 0.75162543 0.78426074\n",
      " 0.77974331 0.81326522 0.8141096  0.79473106 0.83336148 0.85898843\n",
      " 0.83901883 0.85628641 0.87486279 0.88782403 0.90095415 0.92793211\n",
      " 0.948535   0.93333615 0.91746179 0.92544119 0.91771511 0.9483239\n",
      " 0.94064004 0.96635143 0.9563033  0.96491598 0.93996507 0.93504632\n",
      " 0.92722839 0.92039424 0.91557229 0.91267705 0.91130513 0.91097355\n",
      " 0.91120762 0.91160285 0.91186351 0.91181725]\n",
      "12 day output [[0.9114042]]\n",
      "13 day input [0.95512117 0.95989192 0.96635143 0.96246728 0.92295027 0.9598497\n",
      " 0.98792536 0.98594106 0.92531453 0.92172591 0.96474711 0.97572406\n",
      " 0.99159841 0.96972895 0.97614625 0.96795575 1.         0.99016297\n",
      " 0.99050072 0.96538039 0.98488559 0.97086887 0.94026007 0.87748037\n",
      " 0.83483915 0.85413324 0.77336823 0.77269273 0.88014017 0.84007431\n",
      " 0.89673225 0.85527316 0.83884995 0.74233725 0.82327113 0.78143207\n",
      " 0.6665963  0.7921557  0.64118044 0.68614371 0.66001013 0.65203074\n",
      " 0.58642236 0.56586169 0.66089673 0.65515494 0.70970193 0.66452757\n",
      " 0.69437642 0.69218104 0.63569197 0.65266402 0.63780292 0.7267162\n",
      " 0.71388162 0.74191506 0.75002111 0.77222832 0.83049059 0.8194292\n",
      " 0.8289707  0.8125475  0.78776492 0.75162543 0.78426074 0.77974331\n",
      " 0.81326522 0.8141096  0.79473106 0.83336148 0.85898843 0.83901883\n",
      " 0.85628641 0.87486279 0.88782403 0.90095415 0.92793211 0.948535\n",
      " 0.93333615 0.91746179 0.92544119 0.91771511 0.9483239  0.94064004\n",
      " 0.96635143 0.9563033  0.96491598 0.93996507 0.93504632 0.92722839\n",
      " 0.92039424 0.91557229 0.91267705 0.91130513 0.91097355 0.91120762\n",
      " 0.91160285 0.91186351 0.91181725 0.91140419]\n",
      "13 day output [[0.91065]]\n",
      "14 day input [0.95989192 0.96635143 0.96246728 0.92295027 0.9598497  0.98792536\n",
      " 0.98594106 0.92531453 0.92172591 0.96474711 0.97572406 0.99159841\n",
      " 0.96972895 0.97614625 0.96795575 1.         0.99016297 0.99050072\n",
      " 0.96538039 0.98488559 0.97086887 0.94026007 0.87748037 0.83483915\n",
      " 0.85413324 0.77336823 0.77269273 0.88014017 0.84007431 0.89673225\n",
      " 0.85527316 0.83884995 0.74233725 0.82327113 0.78143207 0.6665963\n",
      " 0.7921557  0.64118044 0.68614371 0.66001013 0.65203074 0.58642236\n",
      " 0.56586169 0.66089673 0.65515494 0.70970193 0.66452757 0.69437642\n",
      " 0.69218104 0.63569197 0.65266402 0.63780292 0.7267162  0.71388162\n",
      " 0.74191506 0.75002111 0.77222832 0.83049059 0.8194292  0.8289707\n",
      " 0.8125475  0.78776492 0.75162543 0.78426074 0.77974331 0.81326522\n",
      " 0.8141096  0.79473106 0.83336148 0.85898843 0.83901883 0.85628641\n",
      " 0.87486279 0.88782403 0.90095415 0.92793211 0.948535   0.93333615\n",
      " 0.91746179 0.92544119 0.91771511 0.9483239  0.94064004 0.96635143\n",
      " 0.9563033  0.96491598 0.93996507 0.93504632 0.92722839 0.92039424\n",
      " 0.91557229 0.91267705 0.91130513 0.91097355 0.91120762 0.91160285\n",
      " 0.91186351 0.91181725 0.91140419 0.91065001]\n",
      "14 day output [[0.90963596]]\n",
      "15 day input [0.96635143 0.96246728 0.92295027 0.9598497  0.98792536 0.98594106\n",
      " 0.92531453 0.92172591 0.96474711 0.97572406 0.99159841 0.96972895\n",
      " 0.97614625 0.96795575 1.         0.99016297 0.99050072 0.96538039\n",
      " 0.98488559 0.97086887 0.94026007 0.87748037 0.83483915 0.85413324\n",
      " 0.77336823 0.77269273 0.88014017 0.84007431 0.89673225 0.85527316\n",
      " 0.83884995 0.74233725 0.82327113 0.78143207 0.6665963  0.7921557\n",
      " 0.64118044 0.68614371 0.66001013 0.65203074 0.58642236 0.56586169\n",
      " 0.66089673 0.65515494 0.70970193 0.66452757 0.69437642 0.69218104\n",
      " 0.63569197 0.65266402 0.63780292 0.7267162  0.71388162 0.74191506\n",
      " 0.75002111 0.77222832 0.83049059 0.8194292  0.8289707  0.8125475\n",
      " 0.78776492 0.75162543 0.78426074 0.77974331 0.81326522 0.8141096\n",
      " 0.79473106 0.83336148 0.85898843 0.83901883 0.85628641 0.87486279\n",
      " 0.88782403 0.90095415 0.92793211 0.948535   0.93333615 0.91746179\n",
      " 0.92544119 0.91771511 0.9483239  0.94064004 0.96635143 0.9563033\n",
      " 0.96491598 0.93996507 0.93504632 0.92722839 0.92039424 0.91557229\n",
      " 0.91267705 0.91130513 0.91097355 0.91120762 0.91160285 0.91186351\n",
      " 0.91181725 0.91140419 0.91065001 0.90963596]\n",
      "15 day output [[0.90846556]]\n",
      "16 day input [0.96246728 0.92295027 0.9598497  0.98792536 0.98594106 0.92531453\n",
      " 0.92172591 0.96474711 0.97572406 0.99159841 0.96972895 0.97614625\n",
      " 0.96795575 1.         0.99016297 0.99050072 0.96538039 0.98488559\n",
      " 0.97086887 0.94026007 0.87748037 0.83483915 0.85413324 0.77336823\n",
      " 0.77269273 0.88014017 0.84007431 0.89673225 0.85527316 0.83884995\n",
      " 0.74233725 0.82327113 0.78143207 0.6665963  0.7921557  0.64118044\n",
      " 0.68614371 0.66001013 0.65203074 0.58642236 0.56586169 0.66089673\n",
      " 0.65515494 0.70970193 0.66452757 0.69437642 0.69218104 0.63569197\n",
      " 0.65266402 0.63780292 0.7267162  0.71388162 0.74191506 0.75002111\n",
      " 0.77222832 0.83049059 0.8194292  0.8289707  0.8125475  0.78776492\n",
      " 0.75162543 0.78426074 0.77974331 0.81326522 0.8141096  0.79473106\n",
      " 0.83336148 0.85898843 0.83901883 0.85628641 0.87486279 0.88782403\n",
      " 0.90095415 0.92793211 0.948535   0.93333615 0.91746179 0.92544119\n",
      " 0.91771511 0.9483239  0.94064004 0.96635143 0.9563033  0.96491598\n",
      " 0.93996507 0.93504632 0.92722839 0.92039424 0.91557229 0.91267705\n",
      " 0.91130513 0.91097355 0.91120762 0.91160285 0.91186351 0.91181725\n",
      " 0.91140419 0.91065001 0.90963596 0.90846556]\n",
      "16 day output [[0.90724206]]\n",
      "17 day input [0.92295027 0.9598497  0.98792536 0.98594106 0.92531453 0.92172591\n",
      " 0.96474711 0.97572406 0.99159841 0.96972895 0.97614625 0.96795575\n",
      " 1.         0.99016297 0.99050072 0.96538039 0.98488559 0.97086887\n",
      " 0.94026007 0.87748037 0.83483915 0.85413324 0.77336823 0.77269273\n",
      " 0.88014017 0.84007431 0.89673225 0.85527316 0.83884995 0.74233725\n",
      " 0.82327113 0.78143207 0.6665963  0.7921557  0.64118044 0.68614371\n",
      " 0.66001013 0.65203074 0.58642236 0.56586169 0.66089673 0.65515494\n",
      " 0.70970193 0.66452757 0.69437642 0.69218104 0.63569197 0.65266402\n",
      " 0.63780292 0.7267162  0.71388162 0.74191506 0.75002111 0.77222832\n",
      " 0.83049059 0.8194292  0.8289707  0.8125475  0.78776492 0.75162543\n",
      " 0.78426074 0.77974331 0.81326522 0.8141096  0.79473106 0.83336148\n",
      " 0.85898843 0.83901883 0.85628641 0.87486279 0.88782403 0.90095415\n",
      " 0.92793211 0.948535   0.93333615 0.91746179 0.92544119 0.91771511\n",
      " 0.9483239  0.94064004 0.96635143 0.9563033  0.96491598 0.93996507\n",
      " 0.93504632 0.92722839 0.92039424 0.91557229 0.91267705 0.91130513\n",
      " 0.91097355 0.91120762 0.91160285 0.91186351 0.91181725 0.91140419\n",
      " 0.91065001 0.90963596 0.90846556 0.90724206]\n",
      "17 day output [[0.90604883]]\n",
      "18 day input [0.9598497  0.98792536 0.98594106 0.92531453 0.92172591 0.96474711\n",
      " 0.97572406 0.99159841 0.96972895 0.97614625 0.96795575 1.\n",
      " 0.99016297 0.99050072 0.96538039 0.98488559 0.97086887 0.94026007\n",
      " 0.87748037 0.83483915 0.85413324 0.77336823 0.77269273 0.88014017\n",
      " 0.84007431 0.89673225 0.85527316 0.83884995 0.74233725 0.82327113\n",
      " 0.78143207 0.6665963  0.7921557  0.64118044 0.68614371 0.66001013\n",
      " 0.65203074 0.58642236 0.56586169 0.66089673 0.65515494 0.70970193\n",
      " 0.66452757 0.69437642 0.69218104 0.63569197 0.65266402 0.63780292\n",
      " 0.7267162  0.71388162 0.74191506 0.75002111 0.77222832 0.83049059\n",
      " 0.8194292  0.8289707  0.8125475  0.78776492 0.75162543 0.78426074\n",
      " 0.77974331 0.81326522 0.8141096  0.79473106 0.83336148 0.85898843\n",
      " 0.83901883 0.85628641 0.87486279 0.88782403 0.90095415 0.92793211\n",
      " 0.948535   0.93333615 0.91746179 0.92544119 0.91771511 0.9483239\n",
      " 0.94064004 0.96635143 0.9563033  0.96491598 0.93996507 0.93504632\n",
      " 0.92722839 0.92039424 0.91557229 0.91267705 0.91130513 0.91097355\n",
      " 0.91120762 0.91160285 0.91186351 0.91181725 0.91140419 0.91065001\n",
      " 0.90963596 0.90846556 0.90724206 0.90604883]\n",
      "18 day output [[0.90494406]]\n",
      "19 day input [0.98792536 0.98594106 0.92531453 0.92172591 0.96474711 0.97572406\n",
      " 0.99159841 0.96972895 0.97614625 0.96795575 1.         0.99016297\n",
      " 0.99050072 0.96538039 0.98488559 0.97086887 0.94026007 0.87748037\n",
      " 0.83483915 0.85413324 0.77336823 0.77269273 0.88014017 0.84007431\n",
      " 0.89673225 0.85527316 0.83884995 0.74233725 0.82327113 0.78143207\n",
      " 0.6665963  0.7921557  0.64118044 0.68614371 0.66001013 0.65203074\n",
      " 0.58642236 0.56586169 0.66089673 0.65515494 0.70970193 0.66452757\n",
      " 0.69437642 0.69218104 0.63569197 0.65266402 0.63780292 0.7267162\n",
      " 0.71388162 0.74191506 0.75002111 0.77222832 0.83049059 0.8194292\n",
      " 0.8289707  0.8125475  0.78776492 0.75162543 0.78426074 0.77974331\n",
      " 0.81326522 0.8141096  0.79473106 0.83336148 0.85898843 0.83901883\n",
      " 0.85628641 0.87486279 0.88782403 0.90095415 0.92793211 0.948535\n",
      " 0.93333615 0.91746179 0.92544119 0.91771511 0.9483239  0.94064004\n",
      " 0.96635143 0.9563033  0.96491598 0.93996507 0.93504632 0.92722839\n",
      " 0.92039424 0.91557229 0.91267705 0.91130513 0.91097355 0.91120762\n",
      " 0.91160285 0.91186351 0.91181725 0.91140419 0.91065001 0.90963596\n",
      " 0.90846556 0.90724206 0.90604883 0.90494406]\n",
      "19 day output [[0.90395594]]\n",
      "20 day input [0.98594106 0.92531453 0.92172591 0.96474711 0.97572406 0.99159841\n",
      " 0.96972895 0.97614625 0.96795575 1.         0.99016297 0.99050072\n",
      " 0.96538039 0.98488559 0.97086887 0.94026007 0.87748037 0.83483915\n",
      " 0.85413324 0.77336823 0.77269273 0.88014017 0.84007431 0.89673225\n",
      " 0.85527316 0.83884995 0.74233725 0.82327113 0.78143207 0.6665963\n",
      " 0.7921557  0.64118044 0.68614371 0.66001013 0.65203074 0.58642236\n",
      " 0.56586169 0.66089673 0.65515494 0.70970193 0.66452757 0.69437642\n",
      " 0.69218104 0.63569197 0.65266402 0.63780292 0.7267162  0.71388162\n",
      " 0.74191506 0.75002111 0.77222832 0.83049059 0.8194292  0.8289707\n",
      " 0.8125475  0.78776492 0.75162543 0.78426074 0.77974331 0.81326522\n",
      " 0.8141096  0.79473106 0.83336148 0.85898843 0.83901883 0.85628641\n",
      " 0.87486279 0.88782403 0.90095415 0.92793211 0.948535   0.93333615\n",
      " 0.91746179 0.92544119 0.91771511 0.9483239  0.94064004 0.96635143\n",
      " 0.9563033  0.96491598 0.93996507 0.93504632 0.92722839 0.92039424\n",
      " 0.91557229 0.91267705 0.91130513 0.91097355 0.91120762 0.91160285\n",
      " 0.91186351 0.91181725 0.91140419 0.91065001 0.90963596 0.90846556\n",
      " 0.90724206 0.90604883 0.90494406 0.90395594]\n",
      "20 day output [[0.9030885]]\n",
      "21 day input [0.92531453 0.92172591 0.96474711 0.97572406 0.99159841 0.96972895\n",
      " 0.97614625 0.96795575 1.         0.99016297 0.99050072 0.96538039\n",
      " 0.98488559 0.97086887 0.94026007 0.87748037 0.83483915 0.85413324\n",
      " 0.77336823 0.77269273 0.88014017 0.84007431 0.89673225 0.85527316\n",
      " 0.83884995 0.74233725 0.82327113 0.78143207 0.6665963  0.7921557\n",
      " 0.64118044 0.68614371 0.66001013 0.65203074 0.58642236 0.56586169\n",
      " 0.66089673 0.65515494 0.70970193 0.66452757 0.69437642 0.69218104\n",
      " 0.63569197 0.65266402 0.63780292 0.7267162  0.71388162 0.74191506\n",
      " 0.75002111 0.77222832 0.83049059 0.8194292  0.8289707  0.8125475\n",
      " 0.78776492 0.75162543 0.78426074 0.77974331 0.81326522 0.8141096\n",
      " 0.79473106 0.83336148 0.85898843 0.83901883 0.85628641 0.87486279\n",
      " 0.88782403 0.90095415 0.92793211 0.948535   0.93333615 0.91746179\n",
      " 0.92544119 0.91771511 0.9483239  0.94064004 0.96635143 0.9563033\n",
      " 0.96491598 0.93996507 0.93504632 0.92722839 0.92039424 0.91557229\n",
      " 0.91267705 0.91130513 0.91097355 0.91120762 0.91160285 0.91186351\n",
      " 0.91181725 0.91140419 0.91065001 0.90963596 0.90846556 0.90724206\n",
      " 0.90604883 0.90494406 0.90395594 0.90308851]\n",
      "21 day output [[0.90232754]]\n",
      "22 day input [0.92172591 0.96474711 0.97572406 0.99159841 0.96972895 0.97614625\n",
      " 0.96795575 1.         0.99016297 0.99050072 0.96538039 0.98488559\n",
      " 0.97086887 0.94026007 0.87748037 0.83483915 0.85413324 0.77336823\n",
      " 0.77269273 0.88014017 0.84007431 0.89673225 0.85527316 0.83884995\n",
      " 0.74233725 0.82327113 0.78143207 0.6665963  0.7921557  0.64118044\n",
      " 0.68614371 0.66001013 0.65203074 0.58642236 0.56586169 0.66089673\n",
      " 0.65515494 0.70970193 0.66452757 0.69437642 0.69218104 0.63569197\n",
      " 0.65266402 0.63780292 0.7267162  0.71388162 0.74191506 0.75002111\n",
      " 0.77222832 0.83049059 0.8194292  0.8289707  0.8125475  0.78776492\n",
      " 0.75162543 0.78426074 0.77974331 0.81326522 0.8141096  0.79473106\n",
      " 0.83336148 0.85898843 0.83901883 0.85628641 0.87486279 0.88782403\n",
      " 0.90095415 0.92793211 0.948535   0.93333615 0.91746179 0.92544119\n",
      " 0.91771511 0.9483239  0.94064004 0.96635143 0.9563033  0.96491598\n",
      " 0.93996507 0.93504632 0.92722839 0.92039424 0.91557229 0.91267705\n",
      " 0.91130513 0.91097355 0.91120762 0.91160285 0.91186351 0.91181725\n",
      " 0.91140419 0.91065001 0.90963596 0.90846556 0.90724206 0.90604883\n",
      " 0.90494406 0.90395594 0.90308851 0.90232754]\n",
      "22 day output [[0.90164834]]\n",
      "23 day input [0.96474711 0.97572406 0.99159841 0.96972895 0.97614625 0.96795575\n",
      " 1.         0.99016297 0.99050072 0.96538039 0.98488559 0.97086887\n",
      " 0.94026007 0.87748037 0.83483915 0.85413324 0.77336823 0.77269273\n",
      " 0.88014017 0.84007431 0.89673225 0.85527316 0.83884995 0.74233725\n",
      " 0.82327113 0.78143207 0.6665963  0.7921557  0.64118044 0.68614371\n",
      " 0.66001013 0.65203074 0.58642236 0.56586169 0.66089673 0.65515494\n",
      " 0.70970193 0.66452757 0.69437642 0.69218104 0.63569197 0.65266402\n",
      " 0.63780292 0.7267162  0.71388162 0.74191506 0.75002111 0.77222832\n",
      " 0.83049059 0.8194292  0.8289707  0.8125475  0.78776492 0.75162543\n",
      " 0.78426074 0.77974331 0.81326522 0.8141096  0.79473106 0.83336148\n",
      " 0.85898843 0.83901883 0.85628641 0.87486279 0.88782403 0.90095415\n",
      " 0.92793211 0.948535   0.93333615 0.91746179 0.92544119 0.91771511\n",
      " 0.9483239  0.94064004 0.96635143 0.9563033  0.96491598 0.93996507\n",
      " 0.93504632 0.92722839 0.92039424 0.91557229 0.91267705 0.91130513\n",
      " 0.91097355 0.91120762 0.91160285 0.91186351 0.91181725 0.91140419\n",
      " 0.91065001 0.90963596 0.90846556 0.90724206 0.90604883 0.90494406\n",
      " 0.90395594 0.90308851 0.90232754 0.90164834]\n",
      "23 day output [[0.90102106]]\n",
      "24 day input [0.97572406 0.99159841 0.96972895 0.97614625 0.96795575 1.\n",
      " 0.99016297 0.99050072 0.96538039 0.98488559 0.97086887 0.94026007\n",
      " 0.87748037 0.83483915 0.85413324 0.77336823 0.77269273 0.88014017\n",
      " 0.84007431 0.89673225 0.85527316 0.83884995 0.74233725 0.82327113\n",
      " 0.78143207 0.6665963  0.7921557  0.64118044 0.68614371 0.66001013\n",
      " 0.65203074 0.58642236 0.56586169 0.66089673 0.65515494 0.70970193\n",
      " 0.66452757 0.69437642 0.69218104 0.63569197 0.65266402 0.63780292\n",
      " 0.7267162  0.71388162 0.74191506 0.75002111 0.77222832 0.83049059\n",
      " 0.8194292  0.8289707  0.8125475  0.78776492 0.75162543 0.78426074\n",
      " 0.77974331 0.81326522 0.8141096  0.79473106 0.83336148 0.85898843\n",
      " 0.83901883 0.85628641 0.87486279 0.88782403 0.90095415 0.92793211\n",
      " 0.948535   0.93333615 0.91746179 0.92544119 0.91771511 0.9483239\n",
      " 0.94064004 0.96635143 0.9563033  0.96491598 0.93996507 0.93504632\n",
      " 0.92722839 0.92039424 0.91557229 0.91267705 0.91130513 0.91097355\n",
      " 0.91120762 0.91160285 0.91186351 0.91181725 0.91140419 0.91065001\n",
      " 0.90963596 0.90846556 0.90724206 0.90604883 0.90494406 0.90395594\n",
      " 0.90308851 0.90232754 0.90164834 0.90102106]\n",
      "24 day output [[0.900419]]\n",
      "25 day input [0.99159841 0.96972895 0.97614625 0.96795575 1.         0.99016297\n",
      " 0.99050072 0.96538039 0.98488559 0.97086887 0.94026007 0.87748037\n",
      " 0.83483915 0.85413324 0.77336823 0.77269273 0.88014017 0.84007431\n",
      " 0.89673225 0.85527316 0.83884995 0.74233725 0.82327113 0.78143207\n",
      " 0.6665963  0.7921557  0.64118044 0.68614371 0.66001013 0.65203074\n",
      " 0.58642236 0.56586169 0.66089673 0.65515494 0.70970193 0.66452757\n",
      " 0.69437642 0.69218104 0.63569197 0.65266402 0.63780292 0.7267162\n",
      " 0.71388162 0.74191506 0.75002111 0.77222832 0.83049059 0.8194292\n",
      " 0.8289707  0.8125475  0.78776492 0.75162543 0.78426074 0.77974331\n",
      " 0.81326522 0.8141096  0.79473106 0.83336148 0.85898843 0.83901883\n",
      " 0.85628641 0.87486279 0.88782403 0.90095415 0.92793211 0.948535\n",
      " 0.93333615 0.91746179 0.92544119 0.91771511 0.9483239  0.94064004\n",
      " 0.96635143 0.9563033  0.96491598 0.93996507 0.93504632 0.92722839\n",
      " 0.92039424 0.91557229 0.91267705 0.91130513 0.91097355 0.91120762\n",
      " 0.91160285 0.91186351 0.91181725 0.91140419 0.91065001 0.90963596\n",
      " 0.90846556 0.90724206 0.90604883 0.90494406 0.90395594 0.90308851\n",
      " 0.90232754 0.90164834 0.90102106 0.900419  ]\n",
      "25 day output [[0.89981985]]\n",
      "26 day input [0.96972895 0.97614625 0.96795575 1.         0.99016297 0.99050072\n",
      " 0.96538039 0.98488559 0.97086887 0.94026007 0.87748037 0.83483915\n",
      " 0.85413324 0.77336823 0.77269273 0.88014017 0.84007431 0.89673225\n",
      " 0.85527316 0.83884995 0.74233725 0.82327113 0.78143207 0.6665963\n",
      " 0.7921557  0.64118044 0.68614371 0.66001013 0.65203074 0.58642236\n",
      " 0.56586169 0.66089673 0.65515494 0.70970193 0.66452757 0.69437642\n",
      " 0.69218104 0.63569197 0.65266402 0.63780292 0.7267162  0.71388162\n",
      " 0.74191506 0.75002111 0.77222832 0.83049059 0.8194292  0.8289707\n",
      " 0.8125475  0.78776492 0.75162543 0.78426074 0.77974331 0.81326522\n",
      " 0.8141096  0.79473106 0.83336148 0.85898843 0.83901883 0.85628641\n",
      " 0.87486279 0.88782403 0.90095415 0.92793211 0.948535   0.93333615\n",
      " 0.91746179 0.92544119 0.91771511 0.9483239  0.94064004 0.96635143\n",
      " 0.9563033  0.96491598 0.93996507 0.93504632 0.92722839 0.92039424\n",
      " 0.91557229 0.91267705 0.91130513 0.91097355 0.91120762 0.91160285\n",
      " 0.91186351 0.91181725 0.91140419 0.91065001 0.90963596 0.90846556\n",
      " 0.90724206 0.90604883 0.90494406 0.90395594 0.90308851 0.90232754\n",
      " 0.90164834 0.90102106 0.900419   0.89981985]\n",
      "26 day output [[0.8992091]]\n",
      "27 day input [0.97614625 0.96795575 1.         0.99016297 0.99050072 0.96538039\n",
      " 0.98488559 0.97086887 0.94026007 0.87748037 0.83483915 0.85413324\n",
      " 0.77336823 0.77269273 0.88014017 0.84007431 0.89673225 0.85527316\n",
      " 0.83884995 0.74233725 0.82327113 0.78143207 0.6665963  0.7921557\n",
      " 0.64118044 0.68614371 0.66001013 0.65203074 0.58642236 0.56586169\n",
      " 0.66089673 0.65515494 0.70970193 0.66452757 0.69437642 0.69218104\n",
      " 0.63569197 0.65266402 0.63780292 0.7267162  0.71388162 0.74191506\n",
      " 0.75002111 0.77222832 0.83049059 0.8194292  0.8289707  0.8125475\n",
      " 0.78776492 0.75162543 0.78426074 0.77974331 0.81326522 0.8141096\n",
      " 0.79473106 0.83336148 0.85898843 0.83901883 0.85628641 0.87486279\n",
      " 0.88782403 0.90095415 0.92793211 0.948535   0.93333615 0.91746179\n",
      " 0.92544119 0.91771511 0.9483239  0.94064004 0.96635143 0.9563033\n",
      " 0.96491598 0.93996507 0.93504632 0.92722839 0.92039424 0.91557229\n",
      " 0.91267705 0.91130513 0.91097355 0.91120762 0.91160285 0.91186351\n",
      " 0.91181725 0.91140419 0.91065001 0.90963596 0.90846556 0.90724206\n",
      " 0.90604883 0.90494406 0.90395594 0.90308851 0.90232754 0.90164834\n",
      " 0.90102106 0.900419   0.89981985 0.89920908]\n",
      "27 day output [[0.8985788]]\n",
      "28 day input [0.96795575 1.         0.99016297 0.99050072 0.96538039 0.98488559\n",
      " 0.97086887 0.94026007 0.87748037 0.83483915 0.85413324 0.77336823\n",
      " 0.77269273 0.88014017 0.84007431 0.89673225 0.85527316 0.83884995\n",
      " 0.74233725 0.82327113 0.78143207 0.6665963  0.7921557  0.64118044\n",
      " 0.68614371 0.66001013 0.65203074 0.58642236 0.56586169 0.66089673\n",
      " 0.65515494 0.70970193 0.66452757 0.69437642 0.69218104 0.63569197\n",
      " 0.65266402 0.63780292 0.7267162  0.71388162 0.74191506 0.75002111\n",
      " 0.77222832 0.83049059 0.8194292  0.8289707  0.8125475  0.78776492\n",
      " 0.75162543 0.78426074 0.77974331 0.81326522 0.8141096  0.79473106\n",
      " 0.83336148 0.85898843 0.83901883 0.85628641 0.87486279 0.88782403\n",
      " 0.90095415 0.92793211 0.948535   0.93333615 0.91746179 0.92544119\n",
      " 0.91771511 0.9483239  0.94064004 0.96635143 0.9563033  0.96491598\n",
      " 0.93996507 0.93504632 0.92722839 0.92039424 0.91557229 0.91267705\n",
      " 0.91130513 0.91097355 0.91120762 0.91160285 0.91186351 0.91181725\n",
      " 0.91140419 0.91065001 0.90963596 0.90846556 0.90724206 0.90604883\n",
      " 0.90494406 0.90395594 0.90308851 0.90232754 0.90164834 0.90102106\n",
      " 0.900419   0.89981985 0.89920908 0.89857882]\n",
      "28 day output [[0.8979271]]\n",
      "29 day input [1.         0.99016297 0.99050072 0.96538039 0.98488559 0.97086887\n",
      " 0.94026007 0.87748037 0.83483915 0.85413324 0.77336823 0.77269273\n",
      " 0.88014017 0.84007431 0.89673225 0.85527316 0.83884995 0.74233725\n",
      " 0.82327113 0.78143207 0.6665963  0.7921557  0.64118044 0.68614371\n",
      " 0.66001013 0.65203074 0.58642236 0.56586169 0.66089673 0.65515494\n",
      " 0.70970193 0.66452757 0.69437642 0.69218104 0.63569197 0.65266402\n",
      " 0.63780292 0.7267162  0.71388162 0.74191506 0.75002111 0.77222832\n",
      " 0.83049059 0.8194292  0.8289707  0.8125475  0.78776492 0.75162543\n",
      " 0.78426074 0.77974331 0.81326522 0.8141096  0.79473106 0.83336148\n",
      " 0.85898843 0.83901883 0.85628641 0.87486279 0.88782403 0.90095415\n",
      " 0.92793211 0.948535   0.93333615 0.91746179 0.92544119 0.91771511\n",
      " 0.9483239  0.94064004 0.96635143 0.9563033  0.96491598 0.93996507\n",
      " 0.93504632 0.92722839 0.92039424 0.91557229 0.91267705 0.91130513\n",
      " 0.91097355 0.91120762 0.91160285 0.91186351 0.91181725 0.91140419\n",
      " 0.91065001 0.90963596 0.90846556 0.90724206 0.90604883 0.90494406\n",
      " 0.90395594 0.90308851 0.90232754 0.90164834 0.90102106 0.900419\n",
      " 0.89981985 0.89920908 0.89857882 0.89792711]\n",
      "29 day output [[0.89725685]]\n",
      "[[0.9399650692939758], [0.9350463151931763], [0.9272283911705017], [0.920394241809845], [0.9155722856521606], [0.9126770496368408], [0.9113051295280457], [0.9109735488891602], [0.9112076163291931], [0.9116028547286987], [0.9118635058403015], [0.9118172526359558], [0.9114041924476624], [0.9106500148773193], [0.9096359610557556], [0.908465564250946], [0.9072420597076416], [0.9060488343238831], [0.9049440622329712], [0.9039559364318848], [0.9030885100364685], [0.9023275375366211], [0.9016483426094055], [0.9010210633277893], [0.9004189968109131], [0.8998198509216309], [0.8992090821266174], [0.8985788226127625], [0.8979271054267883], [0.8972568511962891]]\n"
     ]
    }
   ],
   "source": [
    "from numpy import array\n",
    "\n",
    "lst_output=[]\n",
    "n_steps=100\n",
    "i=0\n",
    "while(i<30):\n",
    "    \n",
    "    if(len(temp_input)>100):\n",
    "        x_input=np.array(temp_input[1:])\n",
    "        print(\"{} day input {}\".format(i,x_input))\n",
    "        x_input=x_input.reshape(1,-1)\n",
    "        x_input = x_input.reshape((1, n_steps, 1))\n",
    "        yhat = model.predict(x_input, verbose=0)\n",
    "        print(\"{} day output {}\".format(i,yhat))\n",
    "        temp_input.extend(yhat[0].tolist())\n",
    "        temp_input=temp_input[1:]\n",
    "        #print(temp_input)\n",
    "        lst_output.extend(yhat.tolist())\n",
    "        i=i+1\n",
    "    else:\n",
    "        x_input = x_input.reshape((1, n_steps,1))\n",
    "        yhat = model.predict(x_input, verbose=0)\n",
    "        print(yhat[0])\n",
    "        temp_input.extend(yhat[0].tolist())\n",
    "        print(len(temp_input))\n",
    "        lst_output.extend(yhat.tolist())\n",
    "        i=i+1\n",
    "    \n",
    "\n",
    "print(lst_output)"
   ]
  },
  {
   "cell_type": "code",
   "execution_count": 36,
   "id": "ff6ff81c",
   "metadata": {
    "execution": {
     "iopub.execute_input": "2024-03-05T19:50:14.014836Z",
     "iopub.status.busy": "2024-03-05T19:50:14.013652Z",
     "iopub.status.idle": "2024-03-05T19:50:14.019464Z",
     "shell.execute_reply": "2024-03-05T19:50:14.018233Z"
    },
    "papermill": {
     "duration": 0.113529,
     "end_time": "2024-03-05T19:50:14.022213",
     "exception": false,
     "start_time": "2024-03-05T19:50:13.908684",
     "status": "completed"
    },
    "tags": []
   },
   "outputs": [],
   "source": [
    "day_new=np.arange(1,101)\n",
    "day_pred=np.arange(101,131)"
   ]
  },
  {
   "cell_type": "code",
   "execution_count": 37,
   "id": "62462e08",
   "metadata": {
    "execution": {
     "iopub.execute_input": "2024-03-05T19:50:14.227470Z",
     "iopub.status.busy": "2024-03-05T19:50:14.227029Z",
     "iopub.status.idle": "2024-03-05T19:50:14.231943Z",
     "shell.execute_reply": "2024-03-05T19:50:14.231027Z"
    },
    "papermill": {
     "duration": 0.109,
     "end_time": "2024-03-05T19:50:14.234097",
     "exception": false,
     "start_time": "2024-03-05T19:50:14.125097",
     "status": "completed"
    },
    "tags": []
   },
   "outputs": [],
   "source": [
    "import matplotlib.pyplot as plt\n"
   ]
  },
  {
   "cell_type": "code",
   "execution_count": 38,
   "id": "b04d7008",
   "metadata": {
    "execution": {
     "iopub.execute_input": "2024-03-05T19:50:14.445466Z",
     "iopub.status.busy": "2024-03-05T19:50:14.444564Z",
     "iopub.status.idle": "2024-03-05T19:50:14.451655Z",
     "shell.execute_reply": "2024-03-05T19:50:14.450359Z"
    },
    "papermill": {
     "duration": 0.115229,
     "end_time": "2024-03-05T19:50:14.454368",
     "exception": false,
     "start_time": "2024-03-05T19:50:14.339139",
     "status": "completed"
    },
    "tags": []
   },
   "outputs": [
    {
     "data": {
      "text/plain": [
       "1258"
      ]
     },
     "execution_count": 38,
     "metadata": {},
     "output_type": "execute_result"
    }
   ],
   "source": [
    "len(df1)"
   ]
  },
  {
   "cell_type": "code",
   "execution_count": 39,
   "id": "301882f9",
   "metadata": {
    "execution": {
     "iopub.execute_input": "2024-03-05T19:50:14.662803Z",
     "iopub.status.busy": "2024-03-05T19:50:14.661981Z",
     "iopub.status.idle": "2024-03-05T19:50:14.876325Z",
     "shell.execute_reply": "2024-03-05T19:50:14.874897Z"
    },
    "papermill": {
     "duration": 0.321195,
     "end_time": "2024-03-05T19:50:14.879227",
     "exception": false,
     "start_time": "2024-03-05T19:50:14.558032",
     "status": "completed"
    },
    "tags": []
   },
   "outputs": [
    {
     "data": {
      "text/plain": [
       "[<matplotlib.lines.Line2D at 0x7e6533298390>]"
      ]
     },
     "execution_count": 39,
     "metadata": {},
     "output_type": "execute_result"
    },
    {
     "data": {
      "image/png": "[encoded data removed]",
      "text/plain": [
       "<Figure size 432x288 with 1 Axes>"
      ]
     },
     "metadata": {
      "needs_background": "light"
     },
     "output_type": "display_data"
    }
   ],
   "source": [
    "plt.plot(day_new,scaler.inverse_transform(df1[1158:]))\n",
    "plt.plot(day_pred,scaler.inverse_transform(lst_output))"
   ]
  },
  {
   "cell_type": "code",
   "execution_count": 40,
   "id": "bf8bbd16",
   "metadata": {
    "execution": {
     "iopub.execute_input": "2024-03-05T19:50:15.094701Z",
     "iopub.status.busy": "2024-03-05T19:50:15.092965Z",
     "iopub.status.idle": "2024-03-05T19:50:15.270417Z",
     "shell.execute_reply": "2024-03-05T19:50:15.268551Z"
    },
    "papermill": {
     "duration": 0.29067,
     "end_time": "2024-03-05T19:50:15.273930",
     "exception": false,
     "start_time": "2024-03-05T19:50:14.983260",
     "status": "completed"
    },
    "tags": []
   },
   "outputs": [
    {
     "data": {
      "text/plain": [
       "[<matplotlib.lines.Line2D at 0x7e6533168790>]"
      ]
     },
     "execution_count": 40,
     "metadata": {},
     "output_type": "execute_result"
    },
    {
     "data": {
      "image/png": "[encoded data removed]",
      "text/plain": [
       "<Figure size 432x288 with 1 Axes>"
      ]
     },
     "metadata": {
      "needs_background": "light"
     },
     "output_type": "display_data"
    }
   ],
   "source": [
    "df3=df1.tolist()\n",
    "df3.extend(lst_output)\n",
    "plt.plot(df3[1200:])"
   ]
  },
  {
   "cell_type": "code",
   "execution_count": 41,
   "id": "3853dddc",
   "metadata": {
    "execution": {
     "iopub.execute_input": "2024-03-05T19:50:15.490058Z",
     "iopub.status.busy": "2024-03-05T19:50:15.489032Z",
     "iopub.status.idle": "2024-03-05T19:50:15.497166Z",
     "shell.execute_reply": "2024-03-05T19:50:15.496218Z"
    },
    "papermill": {
     "duration": 0.117391,
     "end_time": "2024-03-05T19:50:15.499677",
     "exception": false,
     "start_time": "2024-03-05T19:50:15.382286",
     "status": "completed"
    },
    "tags": []
   },
   "outputs": [],
   "source": [
    "df3=scaler.inverse_transform(df3).tolist()"
   ]
  },
  {
   "cell_type": "code",
   "execution_count": 42,
   "id": "c629b583",
   "metadata": {
    "execution": {
     "iopub.execute_input": "2024-03-05T19:50:15.736418Z",
     "iopub.status.busy": "2024-03-05T19:50:15.735585Z",
     "iopub.status.idle": "2024-03-05T19:50:15.933926Z",
     "shell.execute_reply": "2024-03-05T19:50:15.932871Z"
    },
    "papermill": {
     "duration": 0.33188,
     "end_time": "2024-03-05T19:50:15.937395",
     "exception": false,
     "start_time": "2024-03-05T19:50:15.605515",
     "status": "completed"
    },
    "tags": []
   },
   "outputs": [
    {
     "data": {
      "text/plain": [
       "[<matplotlib.lines.Line2D at 0x7e65331c7c90>]"
      ]
     },
     "execution_count": 42,
     "metadata": {},
     "output_type": "execute_result"
    },
    {
     "data": {
      "image/png": "[encoded data removed]",
      "text/plain": [
       "<Figure size 432x288 with 1 Axes>"
      ]
     },
     "metadata": {
      "needs_background": "light"
     },
     "output_type": "display_data"
    }
   ],
   "source": [
    "plt.plot(df3)"
   ]
  },
  {
   "cell_type": "code",
   "execution_count": null,
   "id": "8e4e2693",
   "metadata": {
    "papermill": {
     "duration": 0.120321,
     "end_time": "2024-03-05T19:50:16.182016",
     "exception": false,
     "start_time": "2024-03-05T19:50:16.061695",
     "status": "completed"
    },
    "tags": []
   },
   "outputs": [],
   "source": []
  }
 ],
 "metadata": {
  "kaggle": {
   "accelerator": "none",
   "dataSources": [
    {
     "datasetId": 2788271,
     "sourceId": 4815058,
     "sourceType": "datasetVersion"
    }
   ],
   "dockerImageVersionId": 30350,
   "isGpuEnabled": false,
   "isInternetEnabled": false,
   "language": "python",
   "sourceType": "notebook"
  },
  "kernelspec": {
   "display_name": "Python 3",
   "language": "python",
   "name": "python3"
  },
  "language_info": {
   "codemirror_mode": {
    "name": "ipython",
    "version": 3
   },
   "file_extension": ".py",
   "mimetype": "text/x-python",
   "name": "python",
   "nbconvert_exporter": "python",
   "pygments_lexer": "ipython3",
   "version": "3.7.12"
  },
  "papermill": {
   "default_parameters": {},
   "duration": 363.035253,
   "end_time": "2024-03-05T19:50:19.249526",
   "environment_variables": {},
   "exception": null,
   "input_path": "__notebook__.ipynb",
   "output_path": "__notebook__.ipynb",
   "parameters": {},
   "start_time": "2024-03-05T19:44:16.214273",
   "version": "2.3.4"
  }
 },
 "nbformat": 4,
 "nbformat_minor": 5
}
